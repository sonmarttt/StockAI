{
 "cells": [
  {
   "cell_type": "code",
   "id": "83c3fef4-ab19-4a15-b89c-ae0b02c5f951",
   "metadata": {
    "ExecuteTime": {
     "end_time": "2024-08-05T18:54:07.367441Z",
     "start_time": "2024-08-05T18:54:01.409333Z"
    }
   },
   "source": [
    "import pandas as pd\n",
    "import numpy as np\n",
    "\n",
    "import matplotlib.pyplot as plt\n",
    "import seaborn as sns\n",
    "sns.set_style('whitegrid')\n",
    "plt.style.use(\"fivethirtyeight\")\n",
    "%matplotlib inline\n",
    "\n",
    "from datetime import datetime\n",
    "import yfinance as yf\n",
    "\n",
    "# The tech stocks we'll use for this analysis\n",
    "tech_list = ['AAPL', 'GOOG', 'MSFT', 'AMZN']\n",
    "\n",
    "# Set up End and Start times for data grab\n",
    "end = datetime.now()\n",
    "start = datetime(end.year - 1, end.month, end.day)\n",
    "\n",
    "# Fetch the stock data\n",
    "company_data = {}\n",
    "\n",
    "for stock in tech_list:\n",
    "    company_data[stock] = yf.download(stock, start=start, end=end,actions=False)\n",
    "\n",
    "# Add company name to each DataFrame and concatenate into a single DataFrame\n",
    "company_list = [company_data[stock] for stock in tech_list]\n",
    "company_name = [\"APPLE\", \"GOOGLE\", \"MICROSOFT\", \"AMAZON\"]\n",
    "\n",
    "for df, name in zip(company_list, company_name):\n",
    "    df[\"company_name\"] = name\n",
    "\n",
    "df = pd.concat(company_list, axis=0)\n",
    "print(df.tail(10))\n"
   ],
   "outputs": [
    {
     "name": "stderr",
     "output_type": "stream",
     "text": [
      "[*********************100%%**********************]  1 of 1 completed\n",
      "[*********************100%%**********************]  1 of 1 completed\n",
      "[*********************100%%**********************]  1 of 1 completed\n",
      "[*********************100%%**********************]  1 of 1 completed"
     ]
    },
    {
     "name": "stdout",
     "output_type": "stream",
     "text": [
      "                  Open        High         Low       Close   Adj Close  \\\n",
      "Date                                                                     \n",
      "2024-07-22  185.000000  185.059998  182.479996  182.550003  182.550003   \n",
      "2024-07-23  184.100006  189.389999  183.559998  186.410004  186.410004   \n",
      "2024-07-24  183.199997  185.449997  180.410004  180.830002  180.830002   \n",
      "2024-07-25  182.910004  183.899994  176.800003  179.850006  179.850006   \n",
      "2024-07-26  180.389999  183.190002  180.240005  182.500000  182.500000   \n",
      "2024-07-29  183.839996  184.750000  182.380005  183.199997  183.199997   \n",
      "2024-07-30  184.720001  185.860001  179.380005  181.710007  181.710007   \n",
      "2024-07-31  185.050003  187.940002  184.460007  186.979996  186.979996   \n",
      "2024-08-01  189.289993  190.600006  181.869995  184.070007  184.070007   \n",
      "2024-08-02  166.750000  168.770004  160.550003  167.899994  167.899994   \n",
      "\n",
      "               Volume company_name  \n",
      "Date                                \n",
      "2024-07-22   39931900       AMAZON  \n",
      "2024-07-23   47537700       AMAZON  \n",
      "2024-07-24   41532400       AMAZON  \n",
      "2024-07-25   44464200       AMAZON  \n",
      "2024-07-26   29506000       AMAZON  \n",
      "2024-07-29   33270100       AMAZON  \n",
      "2024-07-30   39508600       AMAZON  \n",
      "2024-07-31   41667300       AMAZON  \n",
      "2024-08-01   70435600       AMAZON  \n",
      "2024-08-02  141276100       AMAZON  \n"
     ]
    },
    {
     "name": "stderr",
     "output_type": "stream",
     "text": [
      "\n"
     ]
    }
   ],
   "execution_count": 1
  },
  {
   "cell_type": "code",
   "id": "43fe1c6f-a30a-4bd2-9045-b7dc596021b6",
   "metadata": {
    "ExecuteTime": {
     "end_time": "2024-08-05T18:54:08.474681Z",
     "start_time": "2024-08-05T18:54:07.374036Z"
    }
   },
   "source": [
    "# imports \n",
    "import pandas as pd\n",
    "import numpy as np\n",
    "\n",
    "import matplotlib.pyplot as plt\n",
    "import seaborn as sns\n",
    "sns.set_style('whitegrid')\n",
    "plt.style.use(\"fivethirtyeight\")\n",
    "%matplotlib inline\n",
    "\n",
    "from datetime import datetime\n",
    "import yfinance as yf\n",
    "\n",
    "# The tech stocks we'll use for this analysis\n",
    "tech_list = ['AAPL', 'GOOG', 'MSFT', 'AMZN']\n",
    "\n",
    "# Set up End and Start times for data grab\n",
    "end = datetime.now()\n",
    "start = datetime(end.year - 5, end.month, end.day)\n",
    "\n",
    "# Fetch the stock data\n",
    "company_data = {}\n",
    "\n",
    "for stock in tech_list:\n",
    "    company_data[stock] = yf.download(stock, start=start, end=end)\n",
    "\n",
    "# Add company name to each DataFrame and concatenate into a single DataFrame\n",
    "company_list = [company_data[stock] for stock in tech_list]\n",
    "company_name = [\"APPLE\", \"GOOGLE\", \"MICROSOFT\", \"AMAZON\"]\n",
    "\n",
    "for df, name in zip(company_list, company_name):\n",
    "    df[\"company_name\"] = name\n",
    "\n",
    "df = pd.concat(company_list, axis=0)\n",
    "\n",
    "# Print example of the first 10 stocks\n",
    "print(df.tail(10))"
   ],
   "outputs": [
    {
     "name": "stderr",
     "output_type": "stream",
     "text": [
      "[*********************100%%**********************]  1 of 1 completed\n",
      "[*********************100%%**********************]  1 of 1 completed\n",
      "[*********************100%%**********************]  1 of 1 completed\n",
      "[*********************100%%**********************]  1 of 1 completed"
     ]
    },
    {
     "name": "stdout",
     "output_type": "stream",
     "text": [
      "                  Open        High         Low       Close   Adj Close  \\\n",
      "Date                                                                     \n",
      "2024-07-22  185.000000  185.059998  182.479996  182.550003  182.550003   \n",
      "2024-07-23  184.100006  189.389999  183.559998  186.410004  186.410004   \n",
      "2024-07-24  183.199997  185.449997  180.410004  180.830002  180.830002   \n",
      "2024-07-25  182.910004  183.899994  176.800003  179.850006  179.850006   \n",
      "2024-07-26  180.389999  183.190002  180.240005  182.500000  182.500000   \n",
      "2024-07-29  183.839996  184.750000  182.380005  183.199997  183.199997   \n",
      "2024-07-30  184.720001  185.860001  179.380005  181.710007  181.710007   \n",
      "2024-07-31  185.050003  187.940002  184.460007  186.979996  186.979996   \n",
      "2024-08-01  189.289993  190.600006  181.869995  184.070007  184.070007   \n",
      "2024-08-02  166.750000  168.770004  160.550003  167.899994  167.899994   \n",
      "\n",
      "               Volume company_name  \n",
      "Date                                \n",
      "2024-07-22   39931900       AMAZON  \n",
      "2024-07-23   47537700       AMAZON  \n",
      "2024-07-24   41532400       AMAZON  \n",
      "2024-07-25   44464200       AMAZON  \n",
      "2024-07-26   29506000       AMAZON  \n",
      "2024-07-29   33270100       AMAZON  \n",
      "2024-07-30   39508600       AMAZON  \n",
      "2024-07-31   41667300       AMAZON  \n",
      "2024-08-01   70435600       AMAZON  \n",
      "2024-08-02  141276100       AMAZON  \n"
     ]
    },
    {
     "name": "stderr",
     "output_type": "stream",
     "text": [
      "\n"
     ]
    }
   ],
   "execution_count": 2
  },
  {
   "cell_type": "code",
   "id": "b9c07792-1685-44c6-97c4-0a264755018d",
   "metadata": {
    "ExecuteTime": {
     "end_time": "2024-08-05T18:54:08.604683Z",
     "start_time": "2024-08-05T18:54:08.494857Z"
    }
   },
   "source": [
    "# Describe the dataset statistically \n",
    "print(company_data['AAPL'].describe())"
   ],
   "outputs": [
    {
     "name": "stdout",
     "output_type": "stream",
     "text": [
      "              Open         High          Low        Close    Adj Close  \\\n",
      "count  1258.000000  1258.000000  1258.000000  1258.000000  1258.000000   \n",
      "mean    139.871783   141.440724   138.406238   139.987281   138.389364   \n",
      "std      42.051960    42.342992    41.742275    42.030637    42.457472   \n",
      "min      48.852501    49.517502    48.145000    48.334999    46.647968   \n",
      "25%     119.088123   120.507500   116.975002   119.035000   116.511229   \n",
      "50%     146.939995   148.645004   145.540001   146.894997   144.951004   \n",
      "75%     171.832504   173.660000   170.672493   172.190002   170.662434   \n",
      "max     236.479996   237.229996   233.089996   234.820007   234.820007   \n",
      "\n",
      "             Volume  \n",
      "count  1.258000e+03  \n",
      "mean   9.545165e+07  \n",
      "std    5.206951e+07  \n",
      "min    2.404830e+07  \n",
      "25%    6.090778e+07  \n",
      "50%    8.178175e+07  \n",
      "75%    1.121586e+08  \n",
      "max    4.265100e+08  \n"
     ]
    }
   ],
   "execution_count": 3
  },
  {
   "cell_type": "code",
   "id": "9278fa19-8f26-49c1-a2dc-3cf4159ccc96",
   "metadata": {
    "ExecuteTime": {
     "end_time": "2024-08-05T18:54:08.679766Z",
     "start_time": "2024-08-05T18:54:08.604683Z"
    }
   },
   "source": [
    "# Describe concisely the features,\n",
    "# including the number of non-null values and data types\n",
    "print(company_data['AAPL'].info())"
   ],
   "outputs": [
    {
     "name": "stdout",
     "output_type": "stream",
     "text": [
      "<class 'pandas.core.frame.DataFrame'>\n",
      "DatetimeIndex: 1258 entries, 2019-08-05 to 2024-08-02\n",
      "Data columns (total 7 columns):\n",
      " #   Column        Non-Null Count  Dtype  \n",
      "---  ------        --------------  -----  \n",
      " 0   Open          1258 non-null   float64\n",
      " 1   High          1258 non-null   float64\n",
      " 2   Low           1258 non-null   float64\n",
      " 3   Close         1258 non-null   float64\n",
      " 4   Adj Close     1258 non-null   float64\n",
      " 5   Volume        1258 non-null   int64  \n",
      " 6   company_name  1258 non-null   object \n",
      "dtypes: float64(5), int64(1), object(1)\n",
      "memory usage: 78.6+ KB\n",
      "None\n"
     ]
    }
   ],
   "execution_count": 4
  },
  {
   "cell_type": "code",
   "id": "d1f05d3c-299a-4042-a70d-f83a471ac623",
   "metadata": {
    "ExecuteTime": {
     "end_time": "2024-08-05T18:54:08.704060Z",
     "start_time": "2024-08-05T18:54:08.684778Z"
    }
   },
   "source": [
    "# Displaying rows and columns for the complete dataset\n",
    "print(\"Dimensions of the Data:\", df.shape)"
   ],
   "outputs": [
    {
     "name": "stdout",
     "output_type": "stream",
     "text": [
      "Dimensions of the Data: (5032, 7)\n"
     ]
    }
   ],
   "execution_count": 5
  },
  {
   "cell_type": "code",
   "id": "039a6b33-9ebd-418e-b232-18f8da46d5fa",
   "metadata": {
    "ExecuteTime": {
     "end_time": "2024-08-05T18:54:08.735782Z",
     "start_time": "2024-08-05T18:54:08.708574Z"
    }
   },
   "source": [
    "# Displaying rows and columns for Apple\n",
    "print(\"Dimensions of the Data:\", company_data['AAPL'].shape)"
   ],
   "outputs": [
    {
     "name": "stdout",
     "output_type": "stream",
     "text": [
      "Dimensions of the Data: (1258, 7)\n"
     ]
    }
   ],
   "execution_count": 6
  },
  {
   "cell_type": "code",
   "id": "2dc9e529-29e1-4734-9cb7-efa7df230cc0",
   "metadata": {
    "ExecuteTime": {
     "end_time": "2024-08-05T18:54:08.832139Z",
     "start_time": "2024-08-05T18:54:08.740301Z"
    }
   },
   "source": [
    "# Displaying rows and columns for Google\n",
    "print(company_data['GOOG'].info())\n",
    "\n",
    "# Describe concisely the features,\n",
    "# including the number of non-null values and data types for Google \n",
    "print(\"Dimensions of the Data:\", company_data['GOOG'].shape)"
   ],
   "outputs": [
    {
     "name": "stdout",
     "output_type": "stream",
     "text": [
      "<class 'pandas.core.frame.DataFrame'>\n",
      "DatetimeIndex: 1258 entries, 2019-08-05 to 2024-08-02\n",
      "Data columns (total 7 columns):\n",
      " #   Column        Non-Null Count  Dtype  \n",
      "---  ------        --------------  -----  \n",
      " 0   Open          1258 non-null   float64\n",
      " 1   High          1258 non-null   float64\n",
      " 2   Low           1258 non-null   float64\n",
      " 3   Close         1258 non-null   float64\n",
      " 4   Adj Close     1258 non-null   float64\n",
      " 5   Volume        1258 non-null   int64  \n",
      " 6   company_name  1258 non-null   object \n",
      "dtypes: float64(5), int64(1), object(1)\n",
      "memory usage: 78.6+ KB\n",
      "None\n",
      "Dimensions of the Data: (1258, 7)\n"
     ]
    }
   ],
   "execution_count": 7
  },
  {
   "cell_type": "code",
   "id": "e44d45f1-fa8d-40af-8d8f-466308534000",
   "metadata": {
    "ExecuteTime": {
     "end_time": "2024-08-05T18:54:08.876434Z",
     "start_time": "2024-08-05T18:54:08.835154Z"
    }
   },
   "source": [
    "# Data Cleaning \n",
    "# Handling Missing Values \n",
    "\n",
    "# Checking and printing for Missing Values (NaN) in the datasets\n",
    "print(\"Are there any missing points in the dataset?:\", df.isnull().values.any(), \"\\n\")"
   ],
   "outputs": [
    {
     "name": "stdout",
     "output_type": "stream",
     "text": [
      "Are there any missing points in the dataset?: False \n",
      "\n"
     ]
    }
   ],
   "execution_count": 8
  },
  {
   "cell_type": "code",
   "id": "849db269-55c2-44bc-9186-02ad0a314af3",
   "metadata": {
    "ExecuteTime": {
     "end_time": "2024-08-05T18:54:08.922235Z",
     "start_time": "2024-08-05T18:54:08.887425Z"
    }
   },
   "source": [
    "# Handling Duplicate Values:\n",
    "# Checking and printing for duplicated rows in the DataFrame\n",
    "print(\"Number of Duplicated Rows:\", df.duplicated().sum(), \"\\n\")"
   ],
   "outputs": [
    {
     "name": "stdout",
     "output_type": "stream",
     "text": [
      "Number of Duplicated Rows: 0 \n",
      "\n"
     ]
    }
   ],
   "execution_count": 9
  },
  {
   "cell_type": "code",
   "id": "008f2de9-a56d-4ce5-b42b-4851c04760c5",
   "metadata": {
    "ExecuteTime": {
     "end_time": "2024-08-05T18:54:08.967381Z",
     "start_time": "2024-08-05T18:54:08.935454Z"
    }
   },
   "source": [
    "# No need to remove duplicated and recheck \n",
    "# for dimensions because there are no duplicate"
   ],
   "outputs": [],
   "execution_count": 10
  },
  {
   "cell_type": "code",
   "id": "c391528c-6b15-43a8-9360-22a5249efb62",
   "metadata": {
    "ExecuteTime": {
     "end_time": "2024-08-05T18:54:11.520248Z",
     "start_time": "2024-08-05T18:54:08.974295Z"
    }
   },
   "source": [
    "from sklearn.model_selection import train_test_split\n",
    "data = company_data['AAPL']\n",
    "#data = df \n",
    "# Prepare features and target\n",
    "data['Target'] = data['Close'].shift(-1)  # Predict next day's price\n",
    "data = data.dropna()\n",
    "X = data[['Close']]\n",
    "y = data['Target']\n",
    "\n",
    "# Split the data\n",
    "X_train, X_temp, y_train, y_temp = train_test_split(X, y, test_size=0.4, shuffle=False)\n",
    "X_val, X_test, y_val, y_test = train_test_split(X_temp, y_temp, test_size=0.5, shuffle=False)\n",
    "\n",
    "# Verify the sizes\n",
    "print(f\"Training set size: {X_train.shape[0]}\")\n",
    "print(f\"Validation set size: {X_val.shape[0]}\")\n",
    "print(f\"Test set size: {X_test.shape[0]}\")"
   ],
   "outputs": [
    {
     "name": "stdout",
     "output_type": "stream",
     "text": [
      "Training set size: 754\n",
      "Validation set size: 251\n",
      "Test set size: 252\n"
     ]
    }
   ],
   "execution_count": 11
  },
  {
   "cell_type": "code",
   "id": "2db89a7f-8dca-435c-96b1-d463754f5785",
   "metadata": {
    "ExecuteTime": {
     "end_time": "2024-08-05T18:54:13.229043Z",
     "start_time": "2024-08-05T18:54:11.526366Z"
    }
   },
   "source": [
    "import seaborn as sns\n",
    "sns.boxplot(data)"
   ],
   "outputs": [
    {
     "data": {
      "text/plain": [
       "<Axes: >"
      ]
     },
     "execution_count": 12,
     "metadata": {},
     "output_type": "execute_result"
    },
    {
     "data": {
      "text/plain": [
       "<Figure size 640x480 with 1 Axes>"
      ],
      "image/png": "[encoded data removed]"
     },
     "metadata": {},
     "output_type": "display_data"
    }
   ],
   "execution_count": 12
  },
  {
   "cell_type": "code",
   "id": "b6e61d2e-0c3c-416e-870c-2bbfd555668f",
   "metadata": {
    "ExecuteTime": {
     "end_time": "2024-08-05T18:54:13.283548Z",
     "start_time": "2024-08-05T18:54:13.237054Z"
    }
   },
   "source": [
    "from scipy import stats\n",
    "\n",
    "# Example DataFrame\n",
    "data = df\n",
    "\n",
    "# Ensure the data is numeric\n",
    "numeric_data = data.select_dtypes(include=[np.number])\n",
    "\n",
    "# Calculate z-scores\n",
    "z_scores = stats.zscore(numeric_data)\n",
    "\n",
    "# Identify outliers\n",
    "outliers = (np.abs(z_scores) > 3)\n",
    "            \n",
    "# Print outliers\n",
    "print(\"Outlier rows (True indicates an outlier):\")\n",
    "print(outliers)"
   ],
   "outputs": [
    {
     "name": "stdout",
     "output_type": "stream",
     "text": [
      "Outlier rows (True indicates an outlier):\n",
      "             Open   High    Low  Close  Adj Close  Volume\n",
      "Date                                                     \n",
      "2019-08-05  False  False  False  False      False    True\n",
      "2019-08-06  False  False  False  False      False   False\n",
      "2019-08-07  False  False  False  False      False   False\n",
      "2019-08-08  False  False  False  False      False   False\n",
      "2019-08-09  False  False  False  False      False   False\n",
      "...           ...    ...    ...    ...        ...     ...\n",
      "2024-07-29  False  False  False  False      False   False\n",
      "2024-07-30  False  False  False  False      False   False\n",
      "2024-07-31  False  False  False  False      False   False\n",
      "2024-08-01  False  False  False  False      False   False\n",
      "2024-08-02  False  False  False  False      False   False\n",
      "\n",
      "[5032 rows x 6 columns]\n"
     ]
    }
   ],
   "execution_count": 13
  },
  {
   "cell_type": "code",
   "id": "e74baf92-c164-4f2a-ac29-1db49a4aa906",
   "metadata": {
    "ExecuteTime": {
     "end_time": "2024-08-05T19:03:44.572378Z",
     "start_time": "2024-08-05T19:03:43.321992Z"
    }
   },
   "source": [
    "print('hello')\n",
    "print(\"This is a test\")"
   ],
   "outputs": [
    {
     "name": "stdout",
     "output_type": "stream",
     "text": [
      "hello\n"
     ]
    }
   ],
   "execution_count": 14
  },
  {
   "metadata": {},
   "cell_type": "code",
   "outputs": [],
   "execution_count": null,
   "source": "",
   "id": "94e89f5d0ffef63b"
  }
 ],
 "metadata": {
  "kernelspec": {
   "display_name": "Python 3 (ipykernel)",
   "language": "python",
   "name": "python3"
  },
  "language_info": {
   "codemirror_mode": {
    "name": "ipython",
    "version": 3
   },
   "file_extension": ".py",
   "mimetype": "text/x-python",
   "name": "python",
   "nbconvert_exporter": "python",
   "pygments_lexer": "ipython3",
   "version": "3.12.4"
  }
 },
 "nbformat": 4,
 "nbformat_minor": 5
}
