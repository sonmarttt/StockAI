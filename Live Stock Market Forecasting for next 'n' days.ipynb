{
 "cells": [
  {
   "cell_type": "code",
   "id": "initial_id",
   "metadata": {
    "collapsed": true,
    "ExecuteTime": {
     "end_time": "2024-08-21T00:46:35.081438Z",
     "start_time": "2024-08-21T00:46:35.034611Z"
    }
   },
   "source": [
    "#import all necessary libraries\n",
    "import pandas as pd\n",
    "import numpy as np\n",
    "\n",
    "%matplotlib inline\n",
    "import matplotlib.pyplot as plt\n",
    "plt.style.use(\"fivethirtyeight\")\n",
    "import matplotlib\n",
    "import matplotlib.dates as mdates\n",
    "\n",
    "from sklearn.model_selection import train_test_split\n",
    "from sklearn.preprocessing import MinMaxScaler\n",
    "from sklearn.model_selection import TimeSeriesSplit\n",
    "from sklearn.metrics import mean_squared_error, r2_score\n",
    "from sklearn.metrics import mean_absolute_error\n",
    "from sklearn import linear_model\n",
    "\n",
    "from scipy import stats\n",
    "import seaborn as sns\n",
    "sns.set_style('whitegrid')\n",
    "\n",
    "from datetime import datetime\n",
    "import yfinance as yf\n",
    "\n",
    "from tensorflow.keras.layers import LSTM, Dense, Dropout, Bidirectional, Input\n",
    "from tensorflow.keras.models import Sequential, load_model\n",
    "import tensorflow.keras.backend as k\n",
    "from tensorflow.keras.losses import MeanAbsoluteError\n",
    "#from tensorflow.keras.metrics import MeanAbsoluteError\n",
    "from tensorflow.keras.callbacks import EarlyStopping\n",
    "from tensorflow.keras.optimizers import Adam\n",
    "from tensorflow.keras.utils import plot_model"
   ],
   "outputs": [],
   "execution_count": 39
  },
  {
   "metadata": {
    "ExecuteTime": {
     "end_time": "2024-08-21T00:46:35.756595Z",
     "start_time": "2024-08-21T00:46:35.084440Z"
    }
   },
   "cell_type": "code",
   "source": [
    "stock_symbol = 'AAPL'\n",
    "data = yf.download(tickers = stock_symbol, period = '5y', interval= '1d')\n",
    "data.head"
   ],
   "id": "5fb80b5066c9ec2e",
   "outputs": [
    {
     "name": "stderr",
     "output_type": "stream",
     "text": [
      "[*********************100%%**********************]  1 of 1 completed\n"
     ]
    },
    {
     "data": {
      "text/plain": [
       "<bound method NDFrame.head of                   Open        High         Low       Close   Adj Close  \\\n",
       "Date                                                                     \n",
       "2019-08-21   53.247501   53.412498   52.900002   53.160000   51.439957   \n",
       "2019-08-22   53.297501   53.610001   52.687500   53.115002   51.396416   \n",
       "2019-08-23   52.357498   53.012501   50.250000   50.660000   49.020855   \n",
       "2019-08-26   51.465000   51.797501   51.264999   51.622501   49.952209   \n",
       "2019-08-27   51.965000   52.137501   50.882500   51.040001   49.388561   \n",
       "...                ...         ...         ...         ...         ...   \n",
       "2024-08-14  220.570007  223.029999  219.699997  221.720001  221.720001   \n",
       "2024-08-15  224.600006  225.350006  222.759995  224.720001  224.720001   \n",
       "2024-08-16  223.919998  226.830002  223.649994  226.050003  226.050003   \n",
       "2024-08-19  225.720001  225.990005  223.039993  225.889999  225.889999   \n",
       "2024-08-20  225.770004  227.169998  225.449997  226.509995  226.509995   \n",
       "\n",
       "               Volume  \n",
       "Date                   \n",
       "2019-08-21   86141600  \n",
       "2019-08-22   89014800  \n",
       "2019-08-23  187272000  \n",
       "2019-08-26  104174400  \n",
       "2019-08-27  103493200  \n",
       "...               ...  \n",
       "2024-08-14   41960600  \n",
       "2024-08-15   46414000  \n",
       "2024-08-16   44340200  \n",
       "2024-08-19   40687800  \n",
       "2024-08-20   29914893  \n",
       "\n",
       "[1258 rows x 6 columns]>"
      ]
     },
     "execution_count": 40,
     "metadata": {},
     "output_type": "execute_result"
    }
   ],
   "execution_count": 40
  },
  {
   "metadata": {
    "ExecuteTime": {
     "end_time": "2024-08-21T00:46:35.774601Z",
     "start_time": "2024-08-21T00:46:35.761599Z"
    }
   },
   "cell_type": "code",
   "source": "len(data)",
   "id": "f8d39604c8abbfbe",
   "outputs": [
    {
     "data": {
      "text/plain": [
       "1258"
      ]
     },
     "execution_count": 41,
     "metadata": {},
     "output_type": "execute_result"
    }
   ],
   "execution_count": 41
  },
  {
   "metadata": {
    "ExecuteTime": {
     "end_time": "2024-08-21T00:46:35.800781Z",
     "start_time": "2024-08-21T00:46:35.778609Z"
    }
   },
   "cell_type": "code",
   "source": "data.tail()",
   "id": "1b49e76a70d1fc82",
   "outputs": [
    {
     "data": {
      "text/plain": [
       "                  Open        High         Low       Close   Adj Close  \\\n",
       "Date                                                                     \n",
       "2024-08-14  220.570007  223.029999  219.699997  221.720001  221.720001   \n",
       "2024-08-15  224.600006  225.350006  222.759995  224.720001  224.720001   \n",
       "2024-08-16  223.919998  226.830002  223.649994  226.050003  226.050003   \n",
       "2024-08-19  225.720001  225.990005  223.039993  225.889999  225.889999   \n",
       "2024-08-20  225.770004  227.169998  225.449997  226.509995  226.509995   \n",
       "\n",
       "              Volume  \n",
       "Date                  \n",
       "2024-08-14  41960600  \n",
       "2024-08-15  46414000  \n",
       "2024-08-16  44340200  \n",
       "2024-08-19  40687800  \n",
       "2024-08-20  29914893  "
      ],
      "text/html": [
       "<div>\n",
       "<style scoped>\n",
       "    .dataframe tbody tr th:only-of-type {\n",
       "        vertical-align: middle;\n",
       "    }\n",
       "\n",
       "    .dataframe tbody tr th {\n",
       "        vertical-align: top;\n",
       "    }\n",
       "\n",
       "    .dataframe thead th {\n",
       "        text-align: right;\n",
       "    }\n",
       "</style>\n",
       "<table border=\"1\" class=\"dataframe\">\n",
       "  <thead>\n",
       "    <tr style=\"text-align: right;\">\n",
       "      <th></th>\n",
       "      <th>Open</th>\n",
       "      <th>High</th>\n",
       "      <th>Low</th>\n",
       "      <th>Close</th>\n",
       "      <th>Adj Close</th>\n",
       "      <th>Volume</th>\n",
       "    </tr>\n",
       "    <tr>\n",
       "      <th>Date</th>\n",
       "      <th></th>\n",
       "      <th></th>\n",
       "      <th></th>\n",
       "      <th></th>\n",
       "      <th></th>\n",
       "      <th></th>\n",
       "    </tr>\n",
       "  </thead>\n",
       "  <tbody>\n",
       "    <tr>\n",
       "      <th>2024-08-14</th>\n",
       "      <td>220.570007</td>\n",
       "      <td>223.029999</td>\n",
       "      <td>219.699997</td>\n",
       "      <td>221.720001</td>\n",
       "      <td>221.720001</td>\n",
       "      <td>41960600</td>\n",
       "    </tr>\n",
       "    <tr>\n",
       "      <th>2024-08-15</th>\n",
       "      <td>224.600006</td>\n",
       "      <td>225.350006</td>\n",
       "      <td>222.759995</td>\n",
       "      <td>224.720001</td>\n",
       "      <td>224.720001</td>\n",
       "      <td>46414000</td>\n",
       "    </tr>\n",
       "    <tr>\n",
       "      <th>2024-08-16</th>\n",
       "      <td>223.919998</td>\n",
       "      <td>226.830002</td>\n",
       "      <td>223.649994</td>\n",
       "      <td>226.050003</td>\n",
       "      <td>226.050003</td>\n",
       "      <td>44340200</td>\n",
       "    </tr>\n",
       "    <tr>\n",
       "      <th>2024-08-19</th>\n",
       "      <td>225.720001</td>\n",
       "      <td>225.990005</td>\n",
       "      <td>223.039993</td>\n",
       "      <td>225.889999</td>\n",
       "      <td>225.889999</td>\n",
       "      <td>40687800</td>\n",
       "    </tr>\n",
       "    <tr>\n",
       "      <th>2024-08-20</th>\n",
       "      <td>225.770004</td>\n",
       "      <td>227.169998</td>\n",
       "      <td>225.449997</td>\n",
       "      <td>226.509995</td>\n",
       "      <td>226.509995</td>\n",
       "      <td>29914893</td>\n",
       "    </tr>\n",
       "  </tbody>\n",
       "</table>\n",
       "</div>"
      ]
     },
     "execution_count": 42,
     "metadata": {},
     "output_type": "execute_result"
    }
   ],
   "execution_count": 42
  },
  {
   "metadata": {
    "ExecuteTime": {
     "end_time": "2024-08-21T00:46:35.817944Z",
     "start_time": "2024-08-21T00:46:35.806800Z"
    }
   },
   "cell_type": "code",
   "source": "opn = data[['Open']]",
   "id": "b2a68e7719c4d39f",
   "outputs": [],
   "execution_count": 43
  },
  {
   "metadata": {
    "ExecuteTime": {
     "end_time": "2024-08-21T00:46:36.633442Z",
     "start_time": "2024-08-21T00:46:35.824949Z"
    }
   },
   "cell_type": "code",
   "source": "opn.plot()",
   "id": "cf6f88ac85bc63a9",
   "outputs": [
    {
     "data": {
      "text/plain": [
       "<Axes: xlabel='Date'>"
      ]
     },
     "execution_count": 44,
     "metadata": {},
     "output_type": "execute_result"
    },
    {
     "data": {
      "text/plain": [
       "<Figure size 640x480 with 1 Axes>"
      ],
      "image/png": "[encoded data removed]"
     },
     "metadata": {},
     "output_type": "display_data"
    }
   ],
   "execution_count": 44
  },
  {
   "metadata": {
    "ExecuteTime": {
     "end_time": "2024-08-21T00:46:36.648597Z",
     "start_time": "2024-08-21T00:46:36.639450Z"
    }
   },
   "cell_type": "code",
   "source": "ds = opn.values",
   "id": "60d7607d6512e244",
   "outputs": [],
   "execution_count": 45
  },
  {
   "metadata": {
    "ExecuteTime": {
     "end_time": "2024-08-21T00:46:36.667673Z",
     "start_time": "2024-08-21T00:46:36.655606Z"
    }
   },
   "cell_type": "code",
   "source": "ds",
   "id": "87a394d30c0a4882",
   "outputs": [
    {
     "data": {
      "text/plain": [
       "array([[ 53.24750137],\n",
       "       [ 53.29750061],\n",
       "       [ 52.35749817],\n",
       "       ...,\n",
       "       [223.91999817],\n",
       "       [225.72000122],\n",
       "       [225.77000427]])"
      ]
     },
     "execution_count": 46,
     "metadata": {},
     "output_type": "execute_result"
    }
   ],
   "execution_count": 46
  },
  {
   "metadata": {
    "ExecuteTime": {
     "end_time": "2024-08-21T00:46:37.136792Z",
     "start_time": "2024-08-21T00:46:36.672690Z"
    }
   },
   "cell_type": "code",
   "source": "plt.plot(ds)",
   "id": "15e315eb2f31bab2",
   "outputs": [
    {
     "data": {
      "text/plain": [
       "[<matplotlib.lines.Line2D at 0x2306b466ed0>]"
      ]
     },
     "execution_count": 47,
     "metadata": {},
     "output_type": "execute_result"
    },
    {
     "data": {
      "text/plain": [
       "<Figure size 640x480 with 1 Axes>"
      ],
      "image/png": "[encoded data removed]"
     },
     "metadata": {},
     "output_type": "display_data"
    }
   ],
   "execution_count": 47
  },
  {
   "metadata": {
    "ExecuteTime": {
     "end_time": "2024-08-21T00:46:37.156658Z",
     "start_time": "2024-08-21T00:46:37.139795Z"
    }
   },
   "cell_type": "code",
   "source": [
    "normalizer = MinMaxScaler(feature_range=(0, 1))\n",
    "ds_scaled = normalizer.fit_transform(np.array(ds).reshape(-1,1))"
   ],
   "id": "de7263519fe51680",
   "outputs": [],
   "execution_count": 48
  },
  {
   "metadata": {
    "ExecuteTime": {
     "end_time": "2024-08-21T00:46:37.171540Z",
     "start_time": "2024-08-21T00:46:37.159661Z"
    }
   },
   "cell_type": "code",
   "source": [
    "train_size = int(len(ds_scaled) * 0.7)\n",
    "test_size = len(ds_scaled) - train_size\n",
    "train_size, test_size"
   ],
   "id": "60ae40288038955f",
   "outputs": [
    {
     "data": {
      "text/plain": [
       "(880, 378)"
      ]
     },
     "execution_count": 49,
     "metadata": {},
     "output_type": "execute_result"
    }
   ],
   "execution_count": 49
  },
  {
   "metadata": {
    "ExecuteTime": {
     "end_time": "2024-08-21T00:46:37.185942Z",
     "start_time": "2024-08-21T00:46:37.174547Z"
    }
   },
   "cell_type": "code",
   "source": [
    "ds_train, ds_test = ds_scaled[0:train_size,:], ds_scaled[train_size:len(ds_scaled),:]\n",
    "len(ds_train), len(ds_test)"
   ],
   "id": "62c8ac717d9bc34",
   "outputs": [
    {
     "data": {
      "text/plain": [
       "(880, 378)"
      ]
     },
     "execution_count": 50,
     "metadata": {},
     "output_type": "execute_result"
    }
   ],
   "execution_count": 50
  },
  {
   "metadata": {
    "ExecuteTime": {
     "end_time": "2024-08-21T00:46:37.199831Z",
     "start_time": "2024-08-21T00:46:37.189946Z"
    }
   },
   "cell_type": "code",
   "source": [
    "def create_ds(dataset, step):\n",
    "    X_train, Y_train = [], []\n",
    "    for i in range(len(dataset)-step-1):\n",
    "        a = dataset[i:i+step, 0]\n",
    "        X_train.append(a)\n",
    "        Y_train.append(dataset[i+step, 0])\n",
    "    return np.array(X_train), np.array(Y_train)"
   ],
   "id": "f866c9c33e439bac",
   "outputs": [],
   "execution_count": 51
  },
  {
   "metadata": {
    "ExecuteTime": {
     "end_time": "2024-08-21T00:46:37.213226Z",
     "start_time": "2024-08-21T00:46:37.202833Z"
    }
   },
   "cell_type": "code",
   "source": [
    "time_stamp = 100\n",
    "X_train, Y_train = create_ds(ds_train, time_stamp)\n",
    "X_test, Y_test = create_ds(ds_test, time_stamp)"
   ],
   "id": "d157c8a946695833",
   "outputs": [],
   "execution_count": 52
  },
  {
   "metadata": {
    "ExecuteTime": {
     "end_time": "2024-08-21T00:46:37.225161Z",
     "start_time": "2024-08-21T00:46:37.219229Z"
    }
   },
   "cell_type": "code",
   "source": [
    "X_train = X_train.reshape(X_train.shape[0],X_train.shape[1],1)\n",
    "X_test = X_test.reshape(X_test.shape[0],X_test.shape[1],1)"
   ],
   "id": "5b6e53f3a1261129",
   "outputs": [],
   "execution_count": 53
  },
  {
   "metadata": {
    "ExecuteTime": {
     "end_time": "2024-08-21T00:47:03.341493Z",
     "start_time": "2024-08-21T00:47:03.157442Z"
    }
   },
   "cell_type": "code",
   "source": [
    "model = Sequential()\n",
    "model.add(Input(shape=(X_train.shape[1],1)))\n",
    "model.add(LSTM(128, return_sequences = True, activation = 'relu'))\n",
    "model.add(LSTM(units=50, return_sequences=True, input_shape=(X_train.shape[1],1)))\n",
    "model.add(LSTM(units=50, return_sequences=True))\n",
    "model.add(LSTM(units=50))\n",
    "model.add(Dense(units=1,activation='linear'))\n",
    "model.summary()"
   ],
   "id": "3d0b014a57a78b48",
   "outputs": [
    {
     "name": "stderr",
     "output_type": "stream",
     "text": [
      "C:\\Users\\tabas\\anaconda3\\Lib\\site-packages\\keras\\src\\layers\\rnn\\rnn.py:204: UserWarning: Do not pass an `input_shape`/`input_dim` argument to a layer. When using Sequential models, prefer using an `Input(shape)` object as the first layer in the model instead.\n",
      "  super().__init__(**kwargs)\n"
     ]
    },
    {
     "data": {
      "text/plain": [
       "\u001B[1mModel: \"sequential_6\"\u001B[0m\n"
      ],
      "text/html": [
       "<pre style=\"white-space:pre;overflow-x:auto;line-height:normal;font-family:Menlo,'DejaVu Sans Mono',consolas,'Courier New',monospace\"><span style=\"font-weight: bold\">Model: \"sequential_6\"</span>\n",
       "</pre>\n"
      ]
     },
     "metadata": {},
     "output_type": "display_data"
    },
    {
     "data": {
      "text/plain": [
       "┏━━━━━━━━━━━━━━━━━━━━━━━━━━━━━━━━━┳━━━━━━━━━━━━━━━━━━━━━━━━┳━━━━━━━━━━━━━━━┓\n",
       "┃\u001B[1m \u001B[0m\u001B[1mLayer (type)                   \u001B[0m\u001B[1m \u001B[0m┃\u001B[1m \u001B[0m\u001B[1mOutput Shape          \u001B[0m\u001B[1m \u001B[0m┃\u001B[1m \u001B[0m\u001B[1m      Param #\u001B[0m\u001B[1m \u001B[0m┃\n",
       "┡━━━━━━━━━━━━━━━━━━━━━━━━━━━━━━━━━╇━━━━━━━━━━━━━━━━━━━━━━━━╇━━━━━━━━━━━━━━━┩\n",
       "│ lstm_19 (\u001B[38;5;33mLSTM\u001B[0m)                  │ (\u001B[38;5;45mNone\u001B[0m, \u001B[38;5;34m100\u001B[0m, \u001B[38;5;34m128\u001B[0m)       │        \u001B[38;5;34m66,560\u001B[0m │\n",
       "├─────────────────────────────────┼────────────────────────┼───────────────┤\n",
       "│ lstm_20 (\u001B[38;5;33mLSTM\u001B[0m)                  │ (\u001B[38;5;45mNone\u001B[0m, \u001B[38;5;34m100\u001B[0m, \u001B[38;5;34m50\u001B[0m)        │        \u001B[38;5;34m35,800\u001B[0m │\n",
       "├─────────────────────────────────┼────────────────────────┼───────────────┤\n",
       "│ lstm_21 (\u001B[38;5;33mLSTM\u001B[0m)                  │ (\u001B[38;5;45mNone\u001B[0m, \u001B[38;5;34m100\u001B[0m, \u001B[38;5;34m50\u001B[0m)        │        \u001B[38;5;34m20,200\u001B[0m │\n",
       "├─────────────────────────────────┼────────────────────────┼───────────────┤\n",
       "│ lstm_22 (\u001B[38;5;33mLSTM\u001B[0m)                  │ (\u001B[38;5;45mNone\u001B[0m, \u001B[38;5;34m50\u001B[0m)             │        \u001B[38;5;34m20,200\u001B[0m │\n",
       "├─────────────────────────────────┼────────────────────────┼───────────────┤\n",
       "│ dense_5 (\u001B[38;5;33mDense\u001B[0m)                 │ (\u001B[38;5;45mNone\u001B[0m, \u001B[38;5;34m1\u001B[0m)              │            \u001B[38;5;34m51\u001B[0m │\n",
       "└─────────────────────────────────┴────────────────────────┴───────────────┘\n"
      ],
      "text/html": [
       "<pre style=\"white-space:pre;overflow-x:auto;line-height:normal;font-family:Menlo,'DejaVu Sans Mono',consolas,'Courier New',monospace\">┏━━━━━━━━━━━━━━━━━━━━━━━━━━━━━━━━━┳━━━━━━━━━━━━━━━━━━━━━━━━┳━━━━━━━━━━━━━━━┓\n",
       "┃<span style=\"font-weight: bold\"> Layer (type)                    </span>┃<span style=\"font-weight: bold\"> Output Shape           </span>┃<span style=\"font-weight: bold\">       Param # </span>┃\n",
       "┡━━━━━━━━━━━━━━━━━━━━━━━━━━━━━━━━━╇━━━━━━━━━━━━━━━━━━━━━━━━╇━━━━━━━━━━━━━━━┩\n",
       "│ lstm_19 (<span style=\"color: #0087ff; text-decoration-color: #0087ff\">LSTM</span>)                  │ (<span style=\"color: #00d7ff; text-decoration-color: #00d7ff\">None</span>, <span style=\"color: #00af00; text-decoration-color: #00af00\">100</span>, <span style=\"color: #00af00; text-decoration-color: #00af00\">128</span>)       │        <span style=\"color: #00af00; text-decoration-color: #00af00\">66,560</span> │\n",
       "├─────────────────────────────────┼────────────────────────┼───────────────┤\n",
       "│ lstm_20 (<span style=\"color: #0087ff; text-decoration-color: #0087ff\">LSTM</span>)                  │ (<span style=\"color: #00d7ff; text-decoration-color: #00d7ff\">None</span>, <span style=\"color: #00af00; text-decoration-color: #00af00\">100</span>, <span style=\"color: #00af00; text-decoration-color: #00af00\">50</span>)        │        <span style=\"color: #00af00; text-decoration-color: #00af00\">35,800</span> │\n",
       "├─────────────────────────────────┼────────────────────────┼───────────────┤\n",
       "│ lstm_21 (<span style=\"color: #0087ff; text-decoration-color: #0087ff\">LSTM</span>)                  │ (<span style=\"color: #00d7ff; text-decoration-color: #00d7ff\">None</span>, <span style=\"color: #00af00; text-decoration-color: #00af00\">100</span>, <span style=\"color: #00af00; text-decoration-color: #00af00\">50</span>)        │        <span style=\"color: #00af00; text-decoration-color: #00af00\">20,200</span> │\n",
       "├─────────────────────────────────┼────────────────────────┼───────────────┤\n",
       "│ lstm_22 (<span style=\"color: #0087ff; text-decoration-color: #0087ff\">LSTM</span>)                  │ (<span style=\"color: #00d7ff; text-decoration-color: #00d7ff\">None</span>, <span style=\"color: #00af00; text-decoration-color: #00af00\">50</span>)             │        <span style=\"color: #00af00; text-decoration-color: #00af00\">20,200</span> │\n",
       "├─────────────────────────────────┼────────────────────────┼───────────────┤\n",
       "│ dense_5 (<span style=\"color: #0087ff; text-decoration-color: #0087ff\">Dense</span>)                 │ (<span style=\"color: #00d7ff; text-decoration-color: #00d7ff\">None</span>, <span style=\"color: #00af00; text-decoration-color: #00af00\">1</span>)              │            <span style=\"color: #00af00; text-decoration-color: #00af00\">51</span> │\n",
       "└─────────────────────────────────┴────────────────────────┴───────────────┘\n",
       "</pre>\n"
      ]
     },
     "metadata": {},
     "output_type": "display_data"
    },
    {
     "data": {
      "text/plain": [
       "\u001B[1m Total params: \u001B[0m\u001B[38;5;34m142,811\u001B[0m (557.86 KB)\n"
      ],
      "text/html": [
       "<pre style=\"white-space:pre;overflow-x:auto;line-height:normal;font-family:Menlo,'DejaVu Sans Mono',consolas,'Courier New',monospace\"><span style=\"font-weight: bold\"> Total params: </span><span style=\"color: #00af00; text-decoration-color: #00af00\">142,811</span> (557.86 KB)\n",
       "</pre>\n"
      ]
     },
     "metadata": {},
     "output_type": "display_data"
    },
    {
     "data": {
      "text/plain": [
       "\u001B[1m Trainable params: \u001B[0m\u001B[38;5;34m142,811\u001B[0m (557.86 KB)\n"
      ],
      "text/html": [
       "<pre style=\"white-space:pre;overflow-x:auto;line-height:normal;font-family:Menlo,'DejaVu Sans Mono',consolas,'Courier New',monospace\"><span style=\"font-weight: bold\"> Trainable params: </span><span style=\"color: #00af00; text-decoration-color: #00af00\">142,811</span> (557.86 KB)\n",
       "</pre>\n"
      ]
     },
     "metadata": {},
     "output_type": "display_data"
    },
    {
     "data": {
      "text/plain": [
       "\u001B[1m Non-trainable params: \u001B[0m\u001B[38;5;34m0\u001B[0m (0.00 B)\n"
      ],
      "text/html": [
       "<pre style=\"white-space:pre;overflow-x:auto;line-height:normal;font-family:Menlo,'DejaVu Sans Mono',consolas,'Courier New',monospace\"><span style=\"font-weight: bold\"> Non-trainable params: </span><span style=\"color: #00af00; text-decoration-color: #00af00\">0</span> (0.00 B)\n",
       "</pre>\n"
      ]
     },
     "metadata": {},
     "output_type": "display_data"
    }
   ],
   "execution_count": 56
  },
  {
   "metadata": {
    "ExecuteTime": {
     "end_time": "2024-08-21T00:55:28.946044Z",
     "start_time": "2024-08-21T00:47:12.442156Z"
    }
   },
   "cell_type": "code",
   "source": [
    "model.compile(loss='mean_squared_error', optimizer='adam')\n",
    "model.fit(X_train, Y_train, validation_data =(X_test, Y_test), epochs=100, batch_size=64)"
   ],
   "id": "fbe70186bb70ed6e",
   "outputs": [
    {
     "name": "stdout",
     "output_type": "stream",
     "text": [
      "Epoch 1/100\n",
      "\u001B[1m13/13\u001B[0m \u001B[32m━━━━━━━━━━━━━━━━━━━━\u001B[0m\u001B[37m\u001B[0m \u001B[1m19s\u001B[0m 377ms/step - loss: 0.1222 - val_loss: 0.0842\n",
      "Epoch 2/100\n",
      "\u001B[1m13/13\u001B[0m \u001B[32m━━━━━━━━━━━━━━━━━━━━\u001B[0m\u001B[37m\u001B[0m \u001B[1m4s\u001B[0m 303ms/step - loss: 0.0151 - val_loss: 0.0105\n",
      "Epoch 3/100\n",
      "\u001B[1m13/13\u001B[0m \u001B[32m━━━━━━━━━━━━━━━━━━━━\u001B[0m\u001B[37m\u001B[0m \u001B[1m4s\u001B[0m 276ms/step - loss: 0.0066 - val_loss: 0.0046\n",
      "Epoch 4/100\n",
      "\u001B[1m13/13\u001B[0m \u001B[32m━━━━━━━━━━━━━━━━━━━━\u001B[0m\u001B[37m\u001B[0m \u001B[1m4s\u001B[0m 280ms/step - loss: 0.0030 - val_loss: 0.0046\n",
      "Epoch 5/100\n",
      "\u001B[1m13/13\u001B[0m \u001B[32m━━━━━━━━━━━━━━━━━━━━\u001B[0m\u001B[37m\u001B[0m \u001B[1m5s\u001B[0m 387ms/step - loss: 0.0022 - val_loss: 0.0051\n",
      "Epoch 6/100\n",
      "\u001B[1m13/13\u001B[0m \u001B[32m━━━━━━━━━━━━━━━━━━━━\u001B[0m\u001B[37m\u001B[0m \u001B[1m5s\u001B[0m 349ms/step - loss: 0.0022 - val_loss: 0.0052\n",
      "Epoch 7/100\n",
      "\u001B[1m13/13\u001B[0m \u001B[32m━━━━━━━━━━━━━━━━━━━━\u001B[0m\u001B[37m\u001B[0m \u001B[1m5s\u001B[0m 352ms/step - loss: 0.0022 - val_loss: 0.0035\n",
      "Epoch 8/100\n",
      "\u001B[1m13/13\u001B[0m \u001B[32m━━━━━━━━━━━━━━━━━━━━\u001B[0m\u001B[37m\u001B[0m \u001B[1m4s\u001B[0m 311ms/step - loss: 0.0020 - val_loss: 0.0057\n",
      "Epoch 9/100\n",
      "\u001B[1m13/13\u001B[0m \u001B[32m━━━━━━━━━━━━━━━━━━━━\u001B[0m\u001B[37m\u001B[0m \u001B[1m4s\u001B[0m 339ms/step - loss: 0.0021 - val_loss: 0.0028\n",
      "Epoch 10/100\n",
      "\u001B[1m13/13\u001B[0m \u001B[32m━━━━━━━━━━━━━━━━━━━━\u001B[0m\u001B[37m\u001B[0m \u001B[1m4s\u001B[0m 319ms/step - loss: 0.0019 - val_loss: 0.0043\n",
      "Epoch 11/100\n",
      "\u001B[1m13/13\u001B[0m \u001B[32m━━━━━━━━━━━━━━━━━━━━\u001B[0m\u001B[37m\u001B[0m \u001B[1m4s\u001B[0m 332ms/step - loss: 0.0017 - val_loss: 0.0036\n",
      "Epoch 12/100\n",
      "\u001B[1m13/13\u001B[0m \u001B[32m━━━━━━━━━━━━━━━━━━━━\u001B[0m\u001B[37m\u001B[0m \u001B[1m5s\u001B[0m 371ms/step - loss: 0.0016 - val_loss: 0.0035\n",
      "Epoch 13/100\n",
      "\u001B[1m13/13\u001B[0m \u001B[32m━━━━━━━━━━━━━━━━━━━━\u001B[0m\u001B[37m\u001B[0m \u001B[1m5s\u001B[0m 387ms/step - loss: 0.0018 - val_loss: 0.0028\n",
      "Epoch 14/100\n",
      "\u001B[1m13/13\u001B[0m \u001B[32m━━━━━━━━━━━━━━━━━━━━\u001B[0m\u001B[37m\u001B[0m \u001B[1m4s\u001B[0m 343ms/step - loss: 0.0017 - val_loss: 0.0057\n",
      "Epoch 15/100\n",
      "\u001B[1m13/13\u001B[0m \u001B[32m━━━━━━━━━━━━━━━━━━━━\u001B[0m\u001B[37m\u001B[0m \u001B[1m5s\u001B[0m 377ms/step - loss: 0.0017 - val_loss: 0.0024\n",
      "Epoch 16/100\n",
      "\u001B[1m13/13\u001B[0m \u001B[32m━━━━━━━━━━━━━━━━━━━━\u001B[0m\u001B[37m\u001B[0m \u001B[1m4s\u001B[0m 325ms/step - loss: 0.0016 - val_loss: 0.0029\n",
      "Epoch 17/100\n",
      "\u001B[1m13/13\u001B[0m \u001B[32m━━━━━━━━━━━━━━━━━━━━\u001B[0m\u001B[37m\u001B[0m \u001B[1m4s\u001B[0m 318ms/step - loss: 0.0014 - val_loss: 0.0054\n",
      "Epoch 18/100\n",
      "\u001B[1m13/13\u001B[0m \u001B[32m━━━━━━━━━━━━━━━━━━━━\u001B[0m\u001B[37m\u001B[0m \u001B[1m5s\u001B[0m 369ms/step - loss: 0.0013 - val_loss: 0.0071\n",
      "Epoch 19/100\n",
      "\u001B[1m13/13\u001B[0m \u001B[32m━━━━━━━━━━━━━━━━━━━━\u001B[0m\u001B[37m\u001B[0m \u001B[1m4s\u001B[0m 348ms/step - loss: 0.0017 - val_loss: 0.0030\n",
      "Epoch 20/100\n",
      "\u001B[1m13/13\u001B[0m \u001B[32m━━━━━━━━━━━━━━━━━━━━\u001B[0m\u001B[37m\u001B[0m \u001B[1m7s\u001B[0m 561ms/step - loss: 0.0013 - val_loss: 0.0028\n",
      "Epoch 21/100\n",
      "\u001B[1m13/13\u001B[0m \u001B[32m━━━━━━━━━━━━━━━━━━━━\u001B[0m\u001B[37m\u001B[0m \u001B[1m8s\u001B[0m 328ms/step - loss: 0.0014 - val_loss: 0.0020\n",
      "Epoch 22/100\n",
      "\u001B[1m13/13\u001B[0m \u001B[32m━━━━━━━━━━━━━━━━━━━━\u001B[0m\u001B[37m\u001B[0m \u001B[1m5s\u001B[0m 353ms/step - loss: 0.0013 - val_loss: 0.0020\n",
      "Epoch 23/100\n",
      "\u001B[1m13/13\u001B[0m \u001B[32m━━━━━━━━━━━━━━━━━━━━\u001B[0m\u001B[37m\u001B[0m \u001B[1m4s\u001B[0m 309ms/step - loss: 0.0012 - val_loss: 0.0038\n",
      "Epoch 24/100\n",
      "\u001B[1m13/13\u001B[0m \u001B[32m━━━━━━━━━━━━━━━━━━━━\u001B[0m\u001B[37m\u001B[0m \u001B[1m4s\u001B[0m 312ms/step - loss: 0.0011 - val_loss: 0.0076\n",
      "Epoch 25/100\n",
      "\u001B[1m13/13\u001B[0m \u001B[32m━━━━━━━━━━━━━━━━━━━━\u001B[0m\u001B[37m\u001B[0m \u001B[1m4s\u001B[0m 341ms/step - loss: 0.0014 - val_loss: 0.0056\n",
      "Epoch 26/100\n",
      "\u001B[1m13/13\u001B[0m \u001B[32m━━━━━━━━━━━━━━━━━━━━\u001B[0m\u001B[37m\u001B[0m \u001B[1m4s\u001B[0m 312ms/step - loss: 0.0013 - val_loss: 0.0029\n",
      "Epoch 27/100\n",
      "\u001B[1m13/13\u001B[0m \u001B[32m━━━━━━━━━━━━━━━━━━━━\u001B[0m\u001B[37m\u001B[0m \u001B[1m4s\u001B[0m 316ms/step - loss: 0.0010 - val_loss: 0.0028\n",
      "Epoch 28/100\n",
      "\u001B[1m13/13\u001B[0m \u001B[32m━━━━━━━━━━━━━━━━━━━━\u001B[0m\u001B[37m\u001B[0m \u001B[1m4s\u001B[0m 309ms/step - loss: 0.0011 - val_loss: 0.0028\n",
      "Epoch 29/100\n",
      "\u001B[1m13/13\u001B[0m \u001B[32m━━━━━━━━━━━━━━━━━━━━\u001B[0m\u001B[37m\u001B[0m \u001B[1m4s\u001B[0m 312ms/step - loss: 0.0010 - val_loss: 0.0027\n",
      "Epoch 30/100\n",
      "\u001B[1m13/13\u001B[0m \u001B[32m━━━━━━━━━━━━━━━━━━━━\u001B[0m\u001B[37m\u001B[0m \u001B[1m5s\u001B[0m 365ms/step - loss: 0.0011 - val_loss: 0.0040\n",
      "Epoch 31/100\n",
      "\u001B[1m13/13\u001B[0m \u001B[32m━━━━━━━━━━━━━━━━━━━━\u001B[0m\u001B[37m\u001B[0m \u001B[1m5s\u001B[0m 385ms/step - loss: 8.6580e-04 - val_loss: 0.0024\n",
      "Epoch 32/100\n",
      "\u001B[1m13/13\u001B[0m \u001B[32m━━━━━━━━━━━━━━━━━━━━\u001B[0m\u001B[37m\u001B[0m \u001B[1m5s\u001B[0m 391ms/step - loss: 9.6528e-04 - val_loss: 0.0031\n",
      "Epoch 33/100\n",
      "\u001B[1m13/13\u001B[0m \u001B[32m━━━━━━━━━━━━━━━━━━━━\u001B[0m\u001B[37m\u001B[0m \u001B[1m4s\u001B[0m 302ms/step - loss: 9.3976e-04 - val_loss: 0.0017\n",
      "Epoch 34/100\n",
      "\u001B[1m13/13\u001B[0m \u001B[32m━━━━━━━━━━━━━━━━━━━━\u001B[0m\u001B[37m\u001B[0m \u001B[1m4s\u001B[0m 316ms/step - loss: 0.0010 - val_loss: 0.0026\n",
      "Epoch 35/100\n",
      "\u001B[1m13/13\u001B[0m \u001B[32m━━━━━━━━━━━━━━━━━━━━\u001B[0m\u001B[37m\u001B[0m \u001B[1m4s\u001B[0m 337ms/step - loss: 0.0010 - val_loss: 0.0027\n",
      "Epoch 36/100\n",
      "\u001B[1m13/13\u001B[0m \u001B[32m━━━━━━━━━━━━━━━━━━━━\u001B[0m\u001B[37m\u001B[0m \u001B[1m4s\u001B[0m 324ms/step - loss: 9.1072e-04 - val_loss: 0.0024\n",
      "Epoch 37/100\n",
      "\u001B[1m13/13\u001B[0m \u001B[32m━━━━━━━━━━━━━━━━━━━━\u001B[0m\u001B[37m\u001B[0m \u001B[1m5s\u001B[0m 356ms/step - loss: 9.2570e-04 - val_loss: 0.0023\n",
      "Epoch 38/100\n",
      "\u001B[1m13/13\u001B[0m \u001B[32m━━━━━━━━━━━━━━━━━━━━\u001B[0m\u001B[37m\u001B[0m \u001B[1m5s\u001B[0m 418ms/step - loss: 8.4832e-04 - val_loss: 0.0016\n",
      "Epoch 39/100\n",
      "\u001B[1m13/13\u001B[0m \u001B[32m━━━━━━━━━━━━━━━━━━━━\u001B[0m\u001B[37m\u001B[0m \u001B[1m6s\u001B[0m 477ms/step - loss: 0.0010 - val_loss: 0.0020\n",
      "Epoch 40/100\n",
      "\u001B[1m13/13\u001B[0m \u001B[32m━━━━━━━━━━━━━━━━━━━━\u001B[0m\u001B[37m\u001B[0m \u001B[1m6s\u001B[0m 434ms/step - loss: 8.2615e-04 - val_loss: 0.0019\n",
      "Epoch 41/100\n",
      "\u001B[1m13/13\u001B[0m \u001B[32m━━━━━━━━━━━━━━━━━━━━\u001B[0m\u001B[37m\u001B[0m \u001B[1m5s\u001B[0m 375ms/step - loss: 0.0010 - val_loss: 0.0014\n",
      "Epoch 42/100\n",
      "\u001B[1m13/13\u001B[0m \u001B[32m━━━━━━━━━━━━━━━━━━━━\u001B[0m\u001B[37m\u001B[0m \u001B[1m5s\u001B[0m 354ms/step - loss: 9.7875e-04 - val_loss: 0.0018\n",
      "Epoch 43/100\n",
      "\u001B[1m13/13\u001B[0m \u001B[32m━━━━━━━━━━━━━━━━━━━━\u001B[0m\u001B[37m\u001B[0m \u001B[1m5s\u001B[0m 407ms/step - loss: 9.3017e-04 - val_loss: 0.0012\n",
      "Epoch 44/100\n",
      "\u001B[1m13/13\u001B[0m \u001B[32m━━━━━━━━━━━━━━━━━━━━\u001B[0m\u001B[37m\u001B[0m \u001B[1m5s\u001B[0m 349ms/step - loss: 8.3340e-04 - val_loss: 0.0028\n",
      "Epoch 45/100\n",
      "\u001B[1m13/13\u001B[0m \u001B[32m━━━━━━━━━━━━━━━━━━━━\u001B[0m\u001B[37m\u001B[0m \u001B[1m4s\u001B[0m 311ms/step - loss: 7.6963e-04 - val_loss: 0.0012\n",
      "Epoch 46/100\n",
      "\u001B[1m13/13\u001B[0m \u001B[32m━━━━━━━━━━━━━━━━━━━━\u001B[0m\u001B[37m\u001B[0m \u001B[1m4s\u001B[0m 310ms/step - loss: 8.4220e-04 - val_loss: 0.0015\n",
      "Epoch 47/100\n",
      "\u001B[1m13/13\u001B[0m \u001B[32m━━━━━━━━━━━━━━━━━━━━\u001B[0m\u001B[37m\u001B[0m \u001B[1m4s\u001B[0m 293ms/step - loss: 7.2912e-04 - val_loss: 0.0038\n",
      "Epoch 48/100\n",
      "\u001B[1m13/13\u001B[0m \u001B[32m━━━━━━━━━━━━━━━━━━━━\u001B[0m\u001B[37m\u001B[0m \u001B[1m4s\u001B[0m 298ms/step - loss: 7.6449e-04 - val_loss: 0.0034\n",
      "Epoch 49/100\n",
      "\u001B[1m13/13\u001B[0m \u001B[32m━━━━━━━━━━━━━━━━━━━━\u001B[0m\u001B[37m\u001B[0m \u001B[1m4s\u001B[0m 305ms/step - loss: 8.5653e-04 - val_loss: 0.0018\n",
      "Epoch 50/100\n",
      "\u001B[1m13/13\u001B[0m \u001B[32m━━━━━━━━━━━━━━━━━━━━\u001B[0m\u001B[37m\u001B[0m \u001B[1m4s\u001B[0m 319ms/step - loss: 8.4957e-04 - val_loss: 0.0016\n",
      "Epoch 51/100\n",
      "\u001B[1m13/13\u001B[0m \u001B[32m━━━━━━━━━━━━━━━━━━━━\u001B[0m\u001B[37m\u001B[0m \u001B[1m4s\u001B[0m 311ms/step - loss: 6.6512e-04 - val_loss: 0.0025\n",
      "Epoch 52/100\n",
      "\u001B[1m13/13\u001B[0m \u001B[32m━━━━━━━━━━━━━━━━━━━━\u001B[0m\u001B[37m\u001B[0m \u001B[1m4s\u001B[0m 307ms/step - loss: 8.6827e-04 - val_loss: 0.0019\n",
      "Epoch 53/100\n",
      "\u001B[1m13/13\u001B[0m \u001B[32m━━━━━━━━━━━━━━━━━━━━\u001B[0m\u001B[37m\u001B[0m \u001B[1m4s\u001B[0m 306ms/step - loss: 8.0953e-04 - val_loss: 0.0018\n",
      "Epoch 54/100\n",
      "\u001B[1m13/13\u001B[0m \u001B[32m━━━━━━━━━━━━━━━━━━━━\u001B[0m\u001B[37m\u001B[0m \u001B[1m4s\u001B[0m 301ms/step - loss: 6.9276e-04 - val_loss: 0.0020\n",
      "Epoch 55/100\n",
      "\u001B[1m13/13\u001B[0m \u001B[32m━━━━━━━━━━━━━━━━━━━━\u001B[0m\u001B[37m\u001B[0m \u001B[1m4s\u001B[0m 331ms/step - loss: 7.4612e-04 - val_loss: 0.0016\n",
      "Epoch 56/100\n",
      "\u001B[1m13/13\u001B[0m \u001B[32m━━━━━━━━━━━━━━━━━━━━\u001B[0m\u001B[37m\u001B[0m \u001B[1m4s\u001B[0m 341ms/step - loss: 7.1693e-04 - val_loss: 0.0017\n",
      "Epoch 57/100\n",
      "\u001B[1m13/13\u001B[0m \u001B[32m━━━━━━━━━━━━━━━━━━━━\u001B[0m\u001B[37m\u001B[0m \u001B[1m4s\u001B[0m 338ms/step - loss: 6.9938e-04 - val_loss: 0.0014\n",
      "Epoch 58/100\n",
      "\u001B[1m13/13\u001B[0m \u001B[32m━━━━━━━━━━━━━━━━━━━━\u001B[0m\u001B[37m\u001B[0m \u001B[1m4s\u001B[0m 339ms/step - loss: 6.6365e-04 - val_loss: 0.0013\n",
      "Epoch 59/100\n",
      "\u001B[1m13/13\u001B[0m \u001B[32m━━━━━━━━━━━━━━━━━━━━\u001B[0m\u001B[37m\u001B[0m \u001B[1m4s\u001B[0m 336ms/step - loss: 7.0350e-04 - val_loss: 0.0010\n",
      "Epoch 60/100\n",
      "\u001B[1m13/13\u001B[0m \u001B[32m━━━━━━━━━━━━━━━━━━━━\u001B[0m\u001B[37m\u001B[0m \u001B[1m5s\u001B[0m 390ms/step - loss: 6.3885e-04 - val_loss: 0.0010\n",
      "Epoch 61/100\n",
      "\u001B[1m13/13\u001B[0m \u001B[32m━━━━━━━━━━━━━━━━━━━━\u001B[0m\u001B[37m\u001B[0m \u001B[1m6s\u001B[0m 473ms/step - loss: 6.7543e-04 - val_loss: 0.0018\n",
      "Epoch 62/100\n",
      "\u001B[1m13/13\u001B[0m \u001B[32m━━━━━━━━━━━━━━━━━━━━\u001B[0m\u001B[37m\u001B[0m \u001B[1m4s\u001B[0m 322ms/step - loss: 6.9701e-04 - val_loss: 0.0029\n",
      "Epoch 63/100\n",
      "\u001B[1m13/13\u001B[0m \u001B[32m━━━━━━━━━━━━━━━━━━━━\u001B[0m\u001B[37m\u001B[0m \u001B[1m4s\u001B[0m 320ms/step - loss: 7.5856e-04 - val_loss: 0.0011\n",
      "Epoch 64/100\n",
      "\u001B[1m13/13\u001B[0m \u001B[32m━━━━━━━━━━━━━━━━━━━━\u001B[0m\u001B[37m\u001B[0m \u001B[1m4s\u001B[0m 340ms/step - loss: 5.9927e-04 - val_loss: 7.0822e-04\n",
      "Epoch 65/100\n",
      "\u001B[1m13/13\u001B[0m \u001B[32m━━━━━━━━━━━━━━━━━━━━\u001B[0m\u001B[37m\u001B[0m \u001B[1m6s\u001B[0m 468ms/step - loss: 6.7995e-04 - val_loss: 0.0011\n",
      "Epoch 66/100\n",
      "\u001B[1m13/13\u001B[0m \u001B[32m━━━━━━━━━━━━━━━━━━━━\u001B[0m\u001B[37m\u001B[0m \u001B[1m5s\u001B[0m 347ms/step - loss: 7.8107e-04 - val_loss: 8.4781e-04\n",
      "Epoch 67/100\n",
      "\u001B[1m13/13\u001B[0m \u001B[32m━━━━━━━━━━━━━━━━━━━━\u001B[0m\u001B[37m\u001B[0m \u001B[1m4s\u001B[0m 323ms/step - loss: 5.4561e-04 - val_loss: 6.8025e-04\n",
      "Epoch 68/100\n",
      "\u001B[1m13/13\u001B[0m \u001B[32m━━━━━━━━━━━━━━━━━━━━\u001B[0m\u001B[37m\u001B[0m \u001B[1m5s\u001B[0m 402ms/step - loss: 5.0046e-04 - val_loss: 7.4115e-04\n",
      "Epoch 69/100\n",
      "\u001B[1m13/13\u001B[0m \u001B[32m━━━━━━━━━━━━━━━━━━━━\u001B[0m\u001B[37m\u001B[0m \u001B[1m6s\u001B[0m 489ms/step - loss: 5.3415e-04 - val_loss: 7.2138e-04\n",
      "Epoch 70/100\n",
      "\u001B[1m13/13\u001B[0m \u001B[32m━━━━━━━━━━━━━━━━━━━━\u001B[0m\u001B[37m\u001B[0m \u001B[1m7s\u001B[0m 551ms/step - loss: 5.2163e-04 - val_loss: 6.1820e-04\n",
      "Epoch 71/100\n",
      "\u001B[1m13/13\u001B[0m \u001B[32m━━━━━━━━━━━━━━━━━━━━\u001B[0m\u001B[37m\u001B[0m \u001B[1m6s\u001B[0m 463ms/step - loss: 4.7022e-04 - val_loss: 7.6752e-04\n",
      "Epoch 72/100\n",
      "\u001B[1m13/13\u001B[0m \u001B[32m━━━━━━━━━━━━━━━━━━━━\u001B[0m\u001B[37m\u001B[0m \u001B[1m5s\u001B[0m 398ms/step - loss: 5.9601e-04 - val_loss: 7.8225e-04\n",
      "Epoch 73/100\n",
      "\u001B[1m13/13\u001B[0m \u001B[32m━━━━━━━━━━━━━━━━━━━━\u001B[0m\u001B[37m\u001B[0m \u001B[1m5s\u001B[0m 399ms/step - loss: 4.7296e-04 - val_loss: 5.4678e-04\n",
      "Epoch 74/100\n",
      "\u001B[1m13/13\u001B[0m \u001B[32m━━━━━━━━━━━━━━━━━━━━\u001B[0m\u001B[37m\u001B[0m \u001B[1m6s\u001B[0m 452ms/step - loss: 4.7797e-04 - val_loss: 0.0010\n",
      "Epoch 75/100\n",
      "\u001B[1m13/13\u001B[0m \u001B[32m━━━━━━━━━━━━━━━━━━━━\u001B[0m\u001B[37m\u001B[0m \u001B[1m7s\u001B[0m 555ms/step - loss: 5.2246e-04 - val_loss: 7.1447e-04\n",
      "Epoch 76/100\n",
      "\u001B[1m13/13\u001B[0m \u001B[32m━━━━━━━━━━━━━━━━━━━━\u001B[0m\u001B[37m\u001B[0m \u001B[1m6s\u001B[0m 484ms/step - loss: 5.9489e-04 - val_loss: 5.1188e-04\n",
      "Epoch 77/100\n",
      "\u001B[1m13/13\u001B[0m \u001B[32m━━━━━━━━━━━━━━━━━━━━\u001B[0m\u001B[37m\u001B[0m \u001B[1m6s\u001B[0m 467ms/step - loss: 4.6568e-04 - val_loss: 0.0010\n",
      "Epoch 78/100\n",
      "\u001B[1m13/13\u001B[0m \u001B[32m━━━━━━━━━━━━━━━━━━━━\u001B[0m\u001B[37m\u001B[0m \u001B[1m5s\u001B[0m 408ms/step - loss: 4.3049e-04 - val_loss: 9.5255e-04\n",
      "Epoch 79/100\n",
      "\u001B[1m13/13\u001B[0m \u001B[32m━━━━━━━━━━━━━━━━━━━━\u001B[0m\u001B[37m\u001B[0m \u001B[1m6s\u001B[0m 429ms/step - loss: 4.5710e-04 - val_loss: 6.6028e-04\n",
      "Epoch 80/100\n",
      "\u001B[1m13/13\u001B[0m \u001B[32m━━━━━━━━━━━━━━━━━━━━\u001B[0m\u001B[37m\u001B[0m \u001B[1m5s\u001B[0m 375ms/step - loss: 4.9290e-04 - val_loss: 5.1365e-04\n",
      "Epoch 81/100\n",
      "\u001B[1m13/13\u001B[0m \u001B[32m━━━━━━━━━━━━━━━━━━━━\u001B[0m\u001B[37m\u001B[0m \u001B[1m4s\u001B[0m 337ms/step - loss: 5.3399e-04 - val_loss: 7.2248e-04\n",
      "Epoch 82/100\n",
      "\u001B[1m13/13\u001B[0m \u001B[32m━━━━━━━━━━━━━━━━━━━━\u001B[0m\u001B[37m\u001B[0m \u001B[1m5s\u001B[0m 384ms/step - loss: 4.2117e-04 - val_loss: 0.0014\n",
      "Epoch 83/100\n",
      "\u001B[1m13/13\u001B[0m \u001B[32m━━━━━━━━━━━━━━━━━━━━\u001B[0m\u001B[37m\u001B[0m \u001B[1m5s\u001B[0m 387ms/step - loss: 4.6589e-04 - val_loss: 4.8240e-04\n",
      "Epoch 84/100\n",
      "\u001B[1m13/13\u001B[0m \u001B[32m━━━━━━━━━━━━━━━━━━━━\u001B[0m\u001B[37m\u001B[0m \u001B[1m5s\u001B[0m 361ms/step - loss: 4.2424e-04 - val_loss: 0.0010\n",
      "Epoch 85/100\n",
      "\u001B[1m13/13\u001B[0m \u001B[32m━━━━━━━━━━━━━━━━━━━━\u001B[0m\u001B[37m\u001B[0m \u001B[1m5s\u001B[0m 343ms/step - loss: 5.9054e-04 - val_loss: 8.0554e-04\n",
      "Epoch 86/100\n",
      "\u001B[1m13/13\u001B[0m \u001B[32m━━━━━━━━━━━━━━━━━━━━\u001B[0m\u001B[37m\u001B[0m \u001B[1m4s\u001B[0m 331ms/step - loss: 4.0976e-04 - val_loss: 4.8572e-04\n",
      "Epoch 87/100\n",
      "\u001B[1m13/13\u001B[0m \u001B[32m━━━━━━━━━━━━━━━━━━━━\u001B[0m\u001B[37m\u001B[0m \u001B[1m4s\u001B[0m 325ms/step - loss: 4.2545e-04 - val_loss: 7.1539e-04\n",
      "Epoch 88/100\n",
      "\u001B[1m13/13\u001B[0m \u001B[32m━━━━━━━━━━━━━━━━━━━━\u001B[0m\u001B[37m\u001B[0m \u001B[1m5s\u001B[0m 388ms/step - loss: 3.8673e-04 - val_loss: 5.1369e-04\n",
      "Epoch 89/100\n",
      "\u001B[1m13/13\u001B[0m \u001B[32m━━━━━━━━━━━━━━━━━━━━\u001B[0m\u001B[37m\u001B[0m \u001B[1m7s\u001B[0m 541ms/step - loss: 4.5605e-04 - val_loss: 4.4409e-04\n",
      "Epoch 90/100\n",
      "\u001B[1m13/13\u001B[0m \u001B[32m━━━━━━━━━━━━━━━━━━━━\u001B[0m\u001B[37m\u001B[0m \u001B[1m5s\u001B[0m 401ms/step - loss: 3.5775e-04 - val_loss: 0.0013\n",
      "Epoch 91/100\n",
      "\u001B[1m13/13\u001B[0m \u001B[32m━━━━━━━━━━━━━━━━━━━━\u001B[0m\u001B[37m\u001B[0m \u001B[1m7s\u001B[0m 536ms/step - loss: 4.0957e-04 - val_loss: 4.6153e-04\n",
      "Epoch 92/100\n",
      "\u001B[1m13/13\u001B[0m \u001B[32m━━━━━━━━━━━━━━━━━━━━\u001B[0m\u001B[37m\u001B[0m \u001B[1m5s\u001B[0m 399ms/step - loss: 3.3552e-04 - val_loss: 0.0024\n",
      "Epoch 93/100\n",
      "\u001B[1m13/13\u001B[0m \u001B[32m━━━━━━━━━━━━━━━━━━━━\u001B[0m\u001B[37m\u001B[0m \u001B[1m6s\u001B[0m 438ms/step - loss: 4.5820e-04 - val_loss: 4.3877e-04\n",
      "Epoch 94/100\n",
      "\u001B[1m13/13\u001B[0m \u001B[32m━━━━━━━━━━━━━━━━━━━━\u001B[0m\u001B[37m\u001B[0m \u001B[1m5s\u001B[0m 394ms/step - loss: 3.7676e-04 - val_loss: 3.8172e-04\n",
      "Epoch 95/100\n",
      "\u001B[1m13/13\u001B[0m \u001B[32m━━━━━━━━━━━━━━━━━━━━\u001B[0m\u001B[37m\u001B[0m \u001B[1m4s\u001B[0m 336ms/step - loss: 3.3281e-04 - val_loss: 0.0011\n",
      "Epoch 96/100\n",
      "\u001B[1m13/13\u001B[0m \u001B[32m━━━━━━━━━━━━━━━━━━━━\u001B[0m\u001B[37m\u001B[0m \u001B[1m4s\u001B[0m 334ms/step - loss: 4.8281e-04 - val_loss: 4.2374e-04\n",
      "Epoch 97/100\n",
      "\u001B[1m13/13\u001B[0m \u001B[32m━━━━━━━━━━━━━━━━━━━━\u001B[0m\u001B[37m\u001B[0m \u001B[1m4s\u001B[0m 341ms/step - loss: 3.5218e-04 - val_loss: 3.9665e-04\n",
      "Epoch 98/100\n",
      "\u001B[1m13/13\u001B[0m \u001B[32m━━━━━━━━━━━━━━━━━━━━\u001B[0m\u001B[37m\u001B[0m \u001B[1m4s\u001B[0m 344ms/step - loss: 3.8018e-04 - val_loss: 3.6209e-04\n",
      "Epoch 99/100\n",
      "\u001B[1m13/13\u001B[0m \u001B[32m━━━━━━━━━━━━━━━━━━━━\u001B[0m\u001B[37m\u001B[0m \u001B[1m5s\u001B[0m 358ms/step - loss: 3.6732e-04 - val_loss: 8.2493e-04\n",
      "Epoch 100/100\n",
      "\u001B[1m13/13\u001B[0m \u001B[32m━━━━━━━━━━━━━━━━━━━━\u001B[0m\u001B[37m\u001B[0m \u001B[1m4s\u001B[0m 331ms/step - loss: 3.5800e-04 - val_loss: 4.9171e-04\n"
     ]
    },
    {
     "data": {
      "text/plain": [
       "<keras.src.callbacks.history.History at 0x2306cc02990>"
      ]
     },
     "execution_count": 58,
     "metadata": {},
     "output_type": "execute_result"
    }
   ],
   "execution_count": 58
  },
  {
   "metadata": {
    "ExecuteTime": {
     "end_time": "2024-08-21T00:55:29.884240Z",
     "start_time": "2024-08-21T00:55:29.034594Z"
    }
   },
   "cell_type": "code",
   "source": [
    "loss = model.history.history['loss']\n",
    "plt.plot(loss)"
   ],
   "id": "738a61b187bb3543",
   "outputs": [
    {
     "data": {
      "text/plain": [
       "[<matplotlib.lines.Line2D at 0x2306eac7410>]"
      ]
     },
     "execution_count": 59,
     "metadata": {},
     "output_type": "execute_result"
    },
    {
     "data": {
      "text/plain": [
       "<Figure size 640x480 with 1 Axes>"
      ],
      "image/png": "[encoded data removed]"
     },
     "metadata": {},
     "output_type": "display_data"
    }
   ],
   "execution_count": 59
  },
  {
   "metadata": {
    "ExecuteTime": {
     "end_time": "2024-08-21T00:55:37.162922Z",
     "start_time": "2024-08-21T00:55:29.886241Z"
    }
   },
   "cell_type": "code",
   "source": [
    "train_predict = model.predict(X_train)\n",
    "test_predict = model.predict(X_test)"
   ],
   "id": "6ccadcd0d0b7d56f",
   "outputs": [
    {
     "name": "stdout",
     "output_type": "stream",
     "text": [
      "\u001B[1m25/25\u001B[0m \u001B[32m━━━━━━━━━━━━━━━━━━━━\u001B[0m\u001B[37m\u001B[0m \u001B[1m6s\u001B[0m 139ms/step\n",
      "\u001B[1m9/9\u001B[0m \u001B[32m━━━━━━━━━━━━━━━━━━━━\u001B[0m\u001B[37m\u001B[0m \u001B[1m1s\u001B[0m 128ms/step\n"
     ]
    }
   ],
   "execution_count": 60
  },
  {
   "metadata": {
    "ExecuteTime": {
     "end_time": "2024-08-21T01:02:09.715599Z",
     "start_time": "2024-08-21T01:02:09.364192Z"
    }
   },
   "cell_type": "code",
   "source": [
    "plt.plot(normalizer.inverse_transform(ds_scaled))\n",
    "plt.plot(train_predict, label= 'train_predict')\n",
    "plt.plot(test_predict, label = 'test_predict')\n",
    "plt.legend"
   ],
   "id": "6dd0a733e644931",
   "outputs": [
    {
     "data": {
      "text/plain": [
       "<function matplotlib.pyplot.legend(*args, **kwargs) -> 'Legend'>"
      ]
     },
     "execution_count": 76,
     "metadata": {},
     "output_type": "execute_result"
    },
    {
     "data": {
      "text/plain": [
       "<Figure size 640x480 with 1 Axes>"
      ],
      "image/png": "[encoded data removed]"
     },
     "metadata": {},
     "output_type": "display_data"
    }
   ],
   "execution_count": 76
  },
  {
   "metadata": {
    "ExecuteTime": {
     "end_time": "2024-08-21T01:02:15.635029Z",
     "start_time": "2024-08-21T01:02:15.617171Z"
    }
   },
   "cell_type": "code",
   "source": "type(train_predict)",
   "id": "b485377372b3bf8f",
   "outputs": [
    {
     "data": {
      "text/plain": [
       "numpy.ndarray"
      ]
     },
     "execution_count": 77,
     "metadata": {},
     "output_type": "execute_result"
    }
   ],
   "execution_count": 77
  },
  {
   "metadata": {},
   "cell_type": "code",
   "outputs": [],
   "execution_count": null,
   "source": "",
   "id": "af639665acd58dfb"
  }
 ],
 "metadata": {
  "kernelspec": {
   "display_name": "Python 3",
   "language": "python",
   "name": "python3"
  },
  "language_info": {
   "codemirror_mode": {
    "name": "ipython",
    "version": 2
   },
   "file_extension": ".py",
   "mimetype": "text/x-python",
   "name": "python",
   "nbconvert_exporter": "python",
   "pygments_lexer": "ipython2",
   "version": "2.7.6"
  }
 },
 "nbformat": 4,
 "nbformat_minor": 5
}
