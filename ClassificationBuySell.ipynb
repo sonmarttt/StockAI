{
 "cells": [
  {
   "cell_type": "code",
   "id": "initial_id",
   "metadata": {
    "collapsed": true,
    "ExecuteTime": {
     "end_time": "2024-08-23T23:44:37.024340Z",
     "start_time": "2024-08-23T23:44:35.057982Z"
    }
   },
   "source": [
    "# Import libraries \n",
    "import yfinance as yf\n",
    "import numpy as np\n",
    "from sklearn.model_selection import train_test_split\n",
    "from sklearn.preprocessing import StandardScaler\n",
    "from sklearn.linear_model import LogisticRegression"
   ],
   "outputs": [],
   "execution_count": 2
  },
  {
   "metadata": {
    "ExecuteTime": {
     "end_time": "2024-08-23T23:44:38.288623Z",
     "start_time": "2024-08-23T23:44:37.027340Z"
    }
   },
   "cell_type": "code",
   "source": [
    "stock_symbol = 'AAPL'\n",
    "data = yf.download(stock_symbol, period='5y', interval='1d')\n",
    "\n",
    "# Feature Engineering\n",
    "data['Daily Return'] = data['Close'].pct_change()\n",
    "data['Moving Average'] = data['Close'].rolling(window=20).mean()\n",
    "data.dropna(inplace=True)\n",
    "\n",
    "# Define features and target\n",
    "features = ['Daily Return', 'Moving Average']\n",
    "data['Target'] = np.where(data['Close'].shift(-1) > data['Close'], 1, 0)  # 1: Buy, 0: Sell\n",
    "\n",
    "# Split data into training and testing sets\n",
    "X = data[features]\n",
    "y = data['Target']\n",
    "X_train, X_test, y_train, y_test = train_test_split(X, y, test_size=0.2, shuffle=False)\n",
    "\n",
    "# Feature scaling\n",
    "scaler = StandardScaler()\n",
    "X_train_scaled = scaler.fit_transform(X_train)\n",
    "X_test_scaled = scaler.transform(X_test)\n",
    "\n",
    "# Train a logistic regression model\n",
    "model = LogisticRegression()\n",
    "model.fit(X_train_scaled, y_train)\n",
    "\n",
    "# Predict on the test set and evaluate\n",
    "y_pred = model.predict(X_test_scaled)\n",
    "\n",
    "# Preparing to predict for the future\n",
    "# Use the most recent data to generate features for future prediction\n",
    "recent_data = data[-20:].copy()  # Make sure to copy to avoid warnings\n",
    "\n",
    "# Generate features for prediction\n",
    "recent_data['Daily Return'] = recent_data['Close'].pct_change()\n",
    "recent_data['Moving Average'] = recent_data['Close'].rolling(window=20).mean()\n",
    "recent_data.dropna(inplace=True)\n",
    "\n",
    "# Display recent data and calculated features\n",
    "print(\"Most Recent Data:\\n\", recent_data.tail(10))\n",
    "\n",
    "# Use only the most recent row for future prediction, keeping it in DataFrame format\n",
    "latest_features = recent_data[features].iloc[-1:]\n",
    "\n",
    "# Show the feature values before scaling\n",
    "print(\"\\nFeature Values for Prediction (Unscaled):\\n\", latest_features)\n",
    "\n",
    "# Predict using the trained model\n",
    "latest_features_scaled = scaler.transform(latest_features)\n",
    "future_prediction = model.predict(latest_features_scaled)\n",
    "\n",
    "# Interpret the prediction\n",
    "action = \"Buy\" if future_prediction[0] == 1 else \"Sell\"\n",
    "\n",
    "# Show scaled feature values and prediction\n",
    "print(\"\\nFeature Values for Prediction (Scaled):\\n\", latest_features_scaled)\n",
    "print(\"Future prediction for the next day: \", action)"
   ],
   "id": "2a6c8bea692c90e5",
   "outputs": [
    {
     "name": "stderr",
     "output_type": "stream",
     "text": [
      "[*********************100%%**********************]  1 of 1 completed"
     ]
    },
    {
     "name": "stdout",
     "output_type": "stream",
     "text": [
      "Most Recent Data:\n",
      "                   Open        High         Low       Close   Adj Close  \\\n",
      "Date                                                                     \n",
      "2024-08-23  225.658997  228.220001  224.339996  226.839996  226.839996   \n",
      "\n",
      "              Volume  Daily Return  Moving Average  Target  \n",
      "Date                                                        \n",
      "2024-08-23  38607139      0.010288      219.733501       0  \n",
      "\n",
      "Feature Values for Prediction (Unscaled):\n",
      "             Daily Return  Moving Average\n",
      "Date                                    \n",
      "2024-08-23      0.010288      219.733501\n",
      "\n",
      "Feature Values for Prediction (Scaled):\n",
      " [[0.41537491 2.45170755]]\n",
      "Future prediction for the next day:  Sell\n"
     ]
    },
    {
     "name": "stderr",
     "output_type": "stream",
     "text": [
      "\n"
     ]
    }
   ],
   "execution_count": 3
  }
 ],
 "metadata": {
  "kernelspec": {
   "display_name": "Python 3",
   "language": "python",
   "name": "python3"
  },
  "language_info": {
   "codemirror_mode": {
    "name": "ipython",
    "version": 2
   },
   "file_extension": ".py",
   "mimetype": "text/x-python",
   "name": "python",
   "nbconvert_exporter": "python",
   "pygments_lexer": "ipython2",
   "version": "2.7.6"
  }
 },
 "nbformat": 4,
 "nbformat_minor": 5
}
