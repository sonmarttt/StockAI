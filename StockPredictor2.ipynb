{
 "cells": [
  {
   "cell_type": "code",
   "id": "initial_id",
   "metadata": {
    "collapsed": true,
    "jupyter": {
     "is_executing": true
    }
   },
   "source": [
    "#import all necessary libraries\n",
    "import pandas as pd\n",
    "import numpy as np\n",
    "\n",
    "%matplotlib inline\n",
    "import matplotlib.pyplot as plt\n",
    "plt.style.use(\"fivethirtyeight\")\n",
    "import matplotlib\n",
    "import matplotlib.dates as mdates\n",
    "\n",
    "from sklearn.model_selection import train_test_split\n",
    "from sklearn.preprocessing import MinMaxScaler\n",
    "from sklearn.model_selection import TimeSeriesSplit\n",
    "from sklearn.metrics import mean_squared_error, r2_score\n",
    "from sklearn.metrics import mean_absolute_error\n",
    "from sklearn import linear_model\n",
    "\n",
    "from scipy import stats\n",
    "import seaborn as sns\n",
    "sns.set_style('whitegrid')\n",
    "\n",
    "from datetime import datetime\n",
    "import yfinance as yf\n",
    "\n",
    "from tensorflow.keras.layers import LSTM, Dense, Dropout, Bidirectional, Input\n",
    "from tensorflow.keras.models import Sequential, load_model\n",
    "import tensorflow.keras.backend as k\n",
    "from tensorflow.keras.losses import MeanAbsoluteError\n",
    "#from tensorflow.keras.metrics import MeanAbsoluteError\n",
    "from tensorflow.keras.callbacks import EarlyStopping\n",
    "from tensorflow.keras.optimizers import Adam\n",
    "from tensorflow.keras.utils import plot_model"
   ],
   "outputs": [],
   "execution_count": null
  },
  {
   "metadata": {
    "jupyter": {
     "is_executing": true
    }
   },
   "cell_type": "code",
   "source": [
    "# The tech stocks we'll use for this analysis\n",
    "tech_list = ['AAPL', 'GOOG', 'MSFT', 'AMZN']\n",
    "\n",
    "# Set up End and Start times for data grab\n",
    "end = datetime.now()\n",
    "start = datetime(end.year - 5, end.month, end.day)\n",
    "\n",
    "# Fetch the stock data\n",
    "company_data = {}\n",
    "\n",
    "for stock in tech_list:\n",
    "    company_data[stock] = yf.download(stock, start=start, end=end,actions=False)\n",
    "\n",
    "# Add company name to each DataFrame and concatenate into a single DataFrame\n",
    "company_list = [company_data[stock] for stock in tech_list]\n",
    "company_name = [\"APPLE\", \"GOOGLE\", \"MICROSOFT\", \"AMAZON\"]\n",
    "\n",
    "for df, name in zip(company_list, company_name):\n",
    "    df[\"company_name\"] = name\n",
    "\n",
    "df = pd.concat(company_list, axis=0)\n",
    "print(df.tail(10))"
   ],
   "id": "addd753aaeb9fe7e",
   "outputs": [],
   "execution_count": null
  },
  {
   "metadata": {
    "jupyter": {
     "is_executing": true
    }
   },
   "cell_type": "code",
   "source": [
    "# Example DataFrame\n",
    "data = df\n",
    "\n",
    "# Ensure the data is numeric\n",
    "numeric_data = data.select_dtypes(include=[np.number])\n",
    "\n",
    "# Calculate z-scores\n",
    "z_scores = stats.zscore(numeric_data)\n",
    "\n",
    "# Identify outliers\n",
    "outliers = (np.abs(z_scores) > 3)\n",
    "            \n",
    "# Print outliers\n",
    "print(\"Outlier rows (True indicates an outlier):\")\n",
    "print(outliers)"
   ],
   "id": "e616bdd0d15bedcc",
   "outputs": [],
   "execution_count": null
  },
  {
   "metadata": {
    "jupyter": {
     "is_executing": true
    }
   },
   "cell_type": "code",
   "source": [
    "data = company_data['AAPL']\n",
    "columns_to_keep = ['Open', 'High', 'Low', 'Close', 'Volume', 'Adj Close']\n",
    "data = data[columns_to_keep]\n",
    "\n",
    "end = datetime.now()\n",
    "start = datetime(end.year - 1, end.month, end.day)\n",
    "\n",
    "#handle outliers with a method\n",
    "def remove_outliers(df):\n",
    "    z_scores = stats.zscore(df.select_dtypes(include=[np.number]))\n",
    "    abs_z_scores = np.abs(z_scores)\n",
    "    filtered_entries = (abs_z_scores < 3).all(axis=1)\n",
    "    return df[filtered_entries]\n",
    "\n",
    "#use the method for the company\n",
    "data_cleaned=remove_outliers(data)\n",
    "\n",
    "numerical_columns = data_cleaned.select_dtypes(include=[np.number]).columns\n",
    "\n",
    "#show the results\n",
    "for column in numerical_columns:\n",
    "    plt.figure(figsize=(12, 6))\n",
    "    plt.scatter(data_cleaned.index, data_cleaned[column], alpha=0.6)\n",
    "    plt.title(f'Apple {column} Scatter Plot Without Outliers')\n",
    "    plt.xlabel('Date')\n",
    "    plt.ylabel(column)\n",
    "    plt.xticks(rotation=45)\n",
    "    plt.show()\n",
    "#print(data_cleaned.tail(10))"
   ],
   "id": "ad8c6442ad8d0e03",
   "outputs": [],
   "execution_count": null
  },
  {
   "metadata": {
    "jupyter": {
     "is_executing": true
    }
   },
   "cell_type": "code",
   "source": [
    "#Set Target Variableth\n",
    "#Can filter close either or way\n",
    "#output_var = pd.DataFrame(data_cleaned, columns=['Close']) \n",
    "Target = data_cleaned.filter(['Close'])\n",
    "\n",
    "#Selecting the Features\n",
    "features = ['Open', 'High', 'Low', 'Volume']\n",
    "Target.tail"
   ],
   "id": "5ca57b8dc21aa358",
   "outputs": [],
   "execution_count": null
  },
  {
   "metadata": {
    "jupyter": {
     "is_executing": true
    }
   },
   "cell_type": "code",
   "source": [
    "#Scaling\n",
    "scaler = MinMaxScaler(feature_range= (0,1))\n",
    "feature_transform = scaler.fit_transform(data_cleaned[features])\n",
    "feature_transform = pd.DataFrame(columns = features, data = feature_transform, index = data_cleaned.index)\n",
    "feature_transform.head()"
   ],
   "id": "550dcf43f476ee7c",
   "outputs": [],
   "execution_count": null
  },
  {
   "metadata": {
    "jupyter": {
     "is_executing": true
    }
   },
   "cell_type": "code",
   "source": [
    "#Splitting to Training, Testing and Validation set\n",
    "timesplit = TimeSeriesSplit(n_splits=10)\n",
    "\n",
    "for train_index, test_index in timesplit.split(feature_transform):\n",
    "    # Define the training and testing sets\n",
    "    X_train = feature_transform[:len(train_index)]\n",
    "    X_test = feature_transform[len(train_index): (len(train_index) + len(test_index))]\n",
    "    y_train = Target[:len(train_index)].values.ravel()\n",
    "    y_test =Target[len(train_index): (len(train_index) + len(test_index))].values.ravel()\n",
    "    \n",
    "     # Further split the training set into training and validation sets\n",
    "    \n",
    "    split_ratio = 0.8 # Example: 80% of the training data for training, 20% for validation\n",
    "    split_point = int(len(X_train) * split_ratio)\n",
    "    \n",
    "    X_train_temp = X_train[:split_point]\n",
    "    X_val = X_train[split_point:]\n",
    "    \n",
    "    y_train_final = y_train[:split_point]\n",
    "    y_val = y_train[split_point:]    \n",
    "    # The Data is now split into training, validation and testing sets  \n",
    "    print(\"Shape of feature_transform:\", feature_transform.shape)\n",
    "    \n",
    "print(\"Shape after split - X_train:\", X_train.shape)\n",
    "print(\"Shape after split - X_val and X_train_temp:\", X_val.shape, X_train_temp.shape)\n",
    "print(\"Shape after split - X_test:\", X_test.shape)"
   ],
   "id": "8a7613b7216ae576",
   "outputs": [],
   "execution_count": null
  },
  {
   "metadata": {
    "jupyter": {
     "is_executing": true
    }
   },
   "cell_type": "code",
   "source": [
    "# Process the data for LSTM, turn them into np arrays\n",
    "X_train_temp = np.array(X_train_temp)\n",
    "X_val = np.array(X_val)\n",
    "X_test = np.array(X_test)\n",
    "\n",
    "\n",
    "# Reshape them into 3D format\n",
    "X_train_final = X_train_temp.reshape((X_train_temp.shape[0], 1, X_train_temp.shape[1]))\n",
    "X_val_final = X_val.reshape((X_val.shape[0], 1, X_val.shape[1]))\n",
    "X_test_final = X_test.reshape((X_test.shape[0], 1, X_test.shape[1]))\n",
    "\n",
    "print('Final X training set: ', X_train_final.shape)\n",
    "print(\"Final X validation set shape: \", X_val_final.shape)\n",
    "print(\"Final X test set shape: \", X_test_final.shape)"
   ],
   "id": "31960e81f521a892",
   "outputs": [],
   "execution_count": null
  },
  {
   "metadata": {
    "jupyter": {
     "is_executing": true
    },
    "ExecuteTime": {
     "start_time": "2024-08-23T02:09:40.768050Z"
    }
   },
   "cell_type": "code",
   "source": [
    "model = Sequential()\n",
    "model.add(Input(shape=(1,X_train_final.shape[2])))\n",
    "model.add(LSTM(128, return_sequences = True, activation = 'relu'))\n",
    "model.add(Dropout(0.2))  # Dropout to prevent overfitting\n",
    "\n",
    "model.add(LSTM(64, return_sequences = True, activation = 'relu'))\n",
    "model.add(Dropout(0.2))\n",
    "\n",
    "model.add(LSTM(64, return_sequences=False, activation='relu'))\n",
    "model.add(Dropout(0.2))\n",
    "\n",
    "model.add(Dense(50, activation='relu'))  # Additional Dense layer\n",
    "model.add(Dropout(0.2))  # Dropout to prevent overfitting\n",
    "model.add(Dense(25))\n",
    "\n",
    "model.add(Dense(1))\n",
    "\n",
    "# Compile the model\n",
    "model.compile(optimizer='adam', loss='MeanAbsoluteError',metrics=['MeanAbsoluteError'])\n",
    "# Ensure model is built\n",
    "model.build((None, 1, X_train_final.shape[2]))\n",
    "\n",
    "early_stopping = EarlyStopping(monitor='val_MeanAbsoluteError', patience=10, restore_best_weights=True,mode='min')\n",
    "\n",
    "plot_model(model, show_shapes=True, show_layer_names=True)\n",
    "\n",
    "history =model.fit(X_train_final, y_train_final, batch_size = 1, epochs =30, validation_data=(X_val_final, y_val),callbacks=[early_stopping],verbose=1)"
   ],
   "id": "c73499dad05f2520",
   "outputs": [],
   "execution_count": null
  },
  {
   "metadata": {
    "jupyter": {
     "is_executing": true
    }
   },
   "cell_type": "code",
   "source": "y_pred = model.predict(X_test_final)",
   "id": "6f409b16e1333487",
   "outputs": [],
   "execution_count": null
  },
  {
   "metadata": {
    "jupyter": {
     "is_executing": true
    }
   },
   "cell_type": "code",
   "source": [
    "#Predicted vs True Adj Close Value – LSTM\n",
    "plt.plot(y_test, label='True Value')\n",
    "plt.plot(y_pred, label='LSTM Value')\n",
    "plt.title('Prediction by LSTM')\n",
    "plt.xlabel('Time Scale')\n",
    "plt.ylabel('Scaled USD')\n",
    "plt.legend()\n",
    "plt.show()"
   ],
   "id": "715fadd59a574309",
   "outputs": [],
   "execution_count": null
  },
  {
   "metadata": {
    "jupyter": {
     "is_executing": true
    }
   },
   "cell_type": "code",
   "source": [
    "#Predicted vs True Adj Close Value – LSTM\n",
    "plt.plot(y_test, label='True Value')\n",
    "plt.plot(y_pred, label='LSTM Value')\n",
    "plt.title('Prediction by LSTM')\n",
    "plt.xlabel('Time Scale')\n",
    "plt.ylabel('Scaled USD')\n",
    "plt.legend()\n",
    "plt.show()\n"
   ],
   "id": "bb874124836eb928",
   "outputs": [],
   "execution_count": null
  },
  {
   "metadata": {
    "jupyter": {
     "is_executing": true
    }
   },
   "cell_type": "code",
   "source": "plot_model(model, show_shapes=True, show_layer_names=True)",
   "id": "9f786226970772ad",
   "outputs": [],
   "execution_count": null
  }
 ],
 "metadata": {
  "kernelspec": {
   "display_name": "Python 3",
   "language": "python",
   "name": "python3"
  },
  "language_info": {
   "codemirror_mode": {
    "name": "ipython",
    "version": 2
   },
   "file_extension": ".py",
   "mimetype": "text/x-python",
   "name": "python",
   "nbconvert_exporter": "python",
   "pygments_lexer": "ipython2",
   "version": "2.7.6"
  }
 },
 "nbformat": 4,
 "nbformat_minor": 5
}
